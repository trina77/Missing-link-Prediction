{
  "cells": [
    {
      "cell_type": "code",
      "execution_count": null,
      "metadata": {
        "id": "fXcH4giyhmdd"
      },
      "outputs": [],
      "source": [
        "import pandas as pd\n",
        "import seaborn as sns\n",
        "import matplotlib.pyplot as plt\n",
        "from sklearn.preprocessing import StandardScaler\n",
        "import networkx as nx\n",
        "import numpy as np\n",
        "import seaborn as sns"
      ]
    },
    {
      "cell_type": "code",
      "execution_count": null,
      "metadata": {
        "id": "eDNDxIIpkIJD"
      },
      "outputs": [],
      "source": [
        "#extracting data from Csv\n",
        "data = pd.read_csv('SA02601_v6_new.csv')"
      ]
    },
    {
      "cell_type": "code",
      "execution_count": null,
      "metadata": {
        "colab": {
          "base_uri": "https://localhost:8080/",
          "height": 489
        },
        "id": "50vv52_ekuPk",
        "outputId": "b28d02cd-eac0-4080-e699-0b750b57132c"
      },
      "outputs": [
        {
          "output_type": "execute_result",
          "data": {
            "text/plain": [
              "PLTSP_CODE\n",
              "GILICAPI    11589\n",
              "ERIOLANA     9412\n",
              "LIGUGRAY     4048\n",
              "ERIGFOLI     2754\n",
              "ERIOCOMP     2393\n",
              "            ...  \n",
              "VEROSERP        1\n",
              "VIOLNUTT        1\n",
              "SMILRACA        1\n",
              "LOTUSUBP        1\n",
              "MADIMINI        1\n",
              "Name: count, Length: 147, dtype: int64"
            ],
            "text/html": [
              "<div>\n",
              "<style scoped>\n",
              "    .dataframe tbody tr th:only-of-type {\n",
              "        vertical-align: middle;\n",
              "    }\n",
              "\n",
              "    .dataframe tbody tr th {\n",
              "        vertical-align: top;\n",
              "    }\n",
              "\n",
              "    .dataframe thead th {\n",
              "        text-align: right;\n",
              "    }\n",
              "</style>\n",
              "<table border=\"1\" class=\"dataframe\">\n",
              "  <thead>\n",
              "    <tr style=\"text-align: right;\">\n",
              "      <th></th>\n",
              "      <th>count</th>\n",
              "    </tr>\n",
              "    <tr>\n",
              "      <th>PLTSP_CODE</th>\n",
              "      <th></th>\n",
              "    </tr>\n",
              "  </thead>\n",
              "  <tbody>\n",
              "    <tr>\n",
              "      <th>GILICAPI</th>\n",
              "      <td>11589</td>\n",
              "    </tr>\n",
              "    <tr>\n",
              "      <th>ERIOLANA</th>\n",
              "      <td>9412</td>\n",
              "    </tr>\n",
              "    <tr>\n",
              "      <th>LIGUGRAY</th>\n",
              "      <td>4048</td>\n",
              "    </tr>\n",
              "    <tr>\n",
              "      <th>ERIGFOLI</th>\n",
              "      <td>2754</td>\n",
              "    </tr>\n",
              "    <tr>\n",
              "      <th>ERIOCOMP</th>\n",
              "      <td>2393</td>\n",
              "    </tr>\n",
              "    <tr>\n",
              "      <th>...</th>\n",
              "      <td>...</td>\n",
              "    </tr>\n",
              "    <tr>\n",
              "      <th>VEROSERP</th>\n",
              "      <td>1</td>\n",
              "    </tr>\n",
              "    <tr>\n",
              "      <th>VIOLNUTT</th>\n",
              "      <td>1</td>\n",
              "    </tr>\n",
              "    <tr>\n",
              "      <th>SMILRACA</th>\n",
              "      <td>1</td>\n",
              "    </tr>\n",
              "    <tr>\n",
              "      <th>LOTUSUBP</th>\n",
              "      <td>1</td>\n",
              "    </tr>\n",
              "    <tr>\n",
              "      <th>MADIMINI</th>\n",
              "      <td>1</td>\n",
              "    </tr>\n",
              "  </tbody>\n",
              "</table>\n",
              "<p>147 rows × 1 columns</p>\n",
              "</div><br><label><b>dtype:</b> int64</label>"
            ]
          },
          "metadata": {},
          "execution_count": 3
        }
      ],
      "source": [
        "#number of times each unique value appears in the column\n",
        "data['PLTSP_CODE'].value_counts()"
      ]
    },
    {
      "cell_type": "code",
      "execution_count": null,
      "metadata": {
        "colab": {
          "base_uri": "https://localhost:8080/",
          "height": 489
        },
        "id": "RmlHpJj5kz0z",
        "outputId": "baee96f5-4a9a-48df-92f1-400326de367f"
      },
      "outputs": [
        {
          "output_type": "execute_result",
          "data": {
            "text/plain": [
              "VISSP_CODE\n",
              "APISMELL    14022\n",
              "BOMBMIXT     7191\n",
              "EPICPUNC     4705\n",
              "BOMBBIFA     4132\n",
              "ERISHIRT     2150\n",
              "            ...  \n",
              "ICHNSPXE        1\n",
              "PYRASPXD        1\n",
              "ICHNSPXS        1\n",
              "POMPS171        1\n",
              "HYLAS163        1\n",
              "Name: count, Length: 800, dtype: int64"
            ],
            "text/html": [
              "<div>\n",
              "<style scoped>\n",
              "    .dataframe tbody tr th:only-of-type {\n",
              "        vertical-align: middle;\n",
              "    }\n",
              "\n",
              "    .dataframe tbody tr th {\n",
              "        vertical-align: top;\n",
              "    }\n",
              "\n",
              "    .dataframe thead th {\n",
              "        text-align: right;\n",
              "    }\n",
              "</style>\n",
              "<table border=\"1\" class=\"dataframe\">\n",
              "  <thead>\n",
              "    <tr style=\"text-align: right;\">\n",
              "      <th></th>\n",
              "      <th>count</th>\n",
              "    </tr>\n",
              "    <tr>\n",
              "      <th>VISSP_CODE</th>\n",
              "      <th></th>\n",
              "    </tr>\n",
              "  </thead>\n",
              "  <tbody>\n",
              "    <tr>\n",
              "      <th>APISMELL</th>\n",
              "      <td>14022</td>\n",
              "    </tr>\n",
              "    <tr>\n",
              "      <th>BOMBMIXT</th>\n",
              "      <td>7191</td>\n",
              "    </tr>\n",
              "    <tr>\n",
              "      <th>EPICPUNC</th>\n",
              "      <td>4705</td>\n",
              "    </tr>\n",
              "    <tr>\n",
              "      <th>BOMBBIFA</th>\n",
              "      <td>4132</td>\n",
              "    </tr>\n",
              "    <tr>\n",
              "      <th>ERISHIRT</th>\n",
              "      <td>2150</td>\n",
              "    </tr>\n",
              "    <tr>\n",
              "      <th>...</th>\n",
              "      <td>...</td>\n",
              "    </tr>\n",
              "    <tr>\n",
              "      <th>ICHNSPXE</th>\n",
              "      <td>1</td>\n",
              "    </tr>\n",
              "    <tr>\n",
              "      <th>PYRASPXD</th>\n",
              "      <td>1</td>\n",
              "    </tr>\n",
              "    <tr>\n",
              "      <th>ICHNSPXS</th>\n",
              "      <td>1</td>\n",
              "    </tr>\n",
              "    <tr>\n",
              "      <th>POMPS171</th>\n",
              "      <td>1</td>\n",
              "    </tr>\n",
              "    <tr>\n",
              "      <th>HYLAS163</th>\n",
              "      <td>1</td>\n",
              "    </tr>\n",
              "  </tbody>\n",
              "</table>\n",
              "<p>800 rows × 1 columns</p>\n",
              "</div><br><label><b>dtype:</b> int64</label>"
            ]
          },
          "metadata": {},
          "execution_count": 4
        }
      ],
      "source": [
        "#number of times each unique value appears in the column\n",
        "data['VISSP_CODE'].value_counts()"
      ]
    },
    {
      "cell_type": "code",
      "execution_count": null,
      "metadata": {
        "colab": {
          "base_uri": "https://localhost:8080/",
          "height": 899
        },
        "id": "tC9hmO6Jk126",
        "outputId": "91a759a1-de9a-46fe-a966-9c60c8cd2825"
      },
      "outputs": [
        {
          "output_type": "execute_result",
          "data": {
            "text/plain": [
              "DBCODE            0\n",
              "ENTITY            0\n",
              "COMPLEX           0\n",
              "MEADOW            0\n",
              "PLOT_ID           0\n",
              "YEAR              0\n",
              "SAMPLEDATE        0\n",
              "WATCH             0\n",
              "OBSERVER      11786\n",
              "PLOT              0\n",
              "START_TIME    10856\n",
              "END_TIME      67441\n",
              "MINUTE          260\n",
              "CLOUDS          394\n",
              "WIND            271\n",
              "TEMP          28503\n",
              "PPI_STATUS        0\n",
              "NO_INT           53\n",
              "PLTSP_CODE    13917\n",
              "PLTSP_NAME    13917\n",
              "VISSP_CODE    13917\n",
              "VISSP_NAME    13919\n",
              "VISSP_TYPE    15559\n",
              "REF_NO        59767\n",
              "VISSP_NO          0\n",
              "QC_NOTES      71311\n",
              "dtype: int64"
            ],
            "text/html": [
              "<div>\n",
              "<style scoped>\n",
              "    .dataframe tbody tr th:only-of-type {\n",
              "        vertical-align: middle;\n",
              "    }\n",
              "\n",
              "    .dataframe tbody tr th {\n",
              "        vertical-align: top;\n",
              "    }\n",
              "\n",
              "    .dataframe thead th {\n",
              "        text-align: right;\n",
              "    }\n",
              "</style>\n",
              "<table border=\"1\" class=\"dataframe\">\n",
              "  <thead>\n",
              "    <tr style=\"text-align: right;\">\n",
              "      <th></th>\n",
              "      <th>0</th>\n",
              "    </tr>\n",
              "  </thead>\n",
              "  <tbody>\n",
              "    <tr>\n",
              "      <th>DBCODE</th>\n",
              "      <td>0</td>\n",
              "    </tr>\n",
              "    <tr>\n",
              "      <th>ENTITY</th>\n",
              "      <td>0</td>\n",
              "    </tr>\n",
              "    <tr>\n",
              "      <th>COMPLEX</th>\n",
              "      <td>0</td>\n",
              "    </tr>\n",
              "    <tr>\n",
              "      <th>MEADOW</th>\n",
              "      <td>0</td>\n",
              "    </tr>\n",
              "    <tr>\n",
              "      <th>PLOT_ID</th>\n",
              "      <td>0</td>\n",
              "    </tr>\n",
              "    <tr>\n",
              "      <th>YEAR</th>\n",
              "      <td>0</td>\n",
              "    </tr>\n",
              "    <tr>\n",
              "      <th>SAMPLEDATE</th>\n",
              "      <td>0</td>\n",
              "    </tr>\n",
              "    <tr>\n",
              "      <th>WATCH</th>\n",
              "      <td>0</td>\n",
              "    </tr>\n",
              "    <tr>\n",
              "      <th>OBSERVER</th>\n",
              "      <td>11786</td>\n",
              "    </tr>\n",
              "    <tr>\n",
              "      <th>PLOT</th>\n",
              "      <td>0</td>\n",
              "    </tr>\n",
              "    <tr>\n",
              "      <th>START_TIME</th>\n",
              "      <td>10856</td>\n",
              "    </tr>\n",
              "    <tr>\n",
              "      <th>END_TIME</th>\n",
              "      <td>67441</td>\n",
              "    </tr>\n",
              "    <tr>\n",
              "      <th>MINUTE</th>\n",
              "      <td>260</td>\n",
              "    </tr>\n",
              "    <tr>\n",
              "      <th>CLOUDS</th>\n",
              "      <td>394</td>\n",
              "    </tr>\n",
              "    <tr>\n",
              "      <th>WIND</th>\n",
              "      <td>271</td>\n",
              "    </tr>\n",
              "    <tr>\n",
              "      <th>TEMP</th>\n",
              "      <td>28503</td>\n",
              "    </tr>\n",
              "    <tr>\n",
              "      <th>PPI_STATUS</th>\n",
              "      <td>0</td>\n",
              "    </tr>\n",
              "    <tr>\n",
              "      <th>NO_INT</th>\n",
              "      <td>53</td>\n",
              "    </tr>\n",
              "    <tr>\n",
              "      <th>PLTSP_CODE</th>\n",
              "      <td>13917</td>\n",
              "    </tr>\n",
              "    <tr>\n",
              "      <th>PLTSP_NAME</th>\n",
              "      <td>13917</td>\n",
              "    </tr>\n",
              "    <tr>\n",
              "      <th>VISSP_CODE</th>\n",
              "      <td>13917</td>\n",
              "    </tr>\n",
              "    <tr>\n",
              "      <th>VISSP_NAME</th>\n",
              "      <td>13919</td>\n",
              "    </tr>\n",
              "    <tr>\n",
              "      <th>VISSP_TYPE</th>\n",
              "      <td>15559</td>\n",
              "    </tr>\n",
              "    <tr>\n",
              "      <th>REF_NO</th>\n",
              "      <td>59767</td>\n",
              "    </tr>\n",
              "    <tr>\n",
              "      <th>VISSP_NO</th>\n",
              "      <td>0</td>\n",
              "    </tr>\n",
              "    <tr>\n",
              "      <th>QC_NOTES</th>\n",
              "      <td>71311</td>\n",
              "    </tr>\n",
              "  </tbody>\n",
              "</table>\n",
              "</div><br><label><b>dtype:</b> int64</label>"
            ]
          },
          "metadata": {},
          "execution_count": 5
        }
      ],
      "source": [
        "# will return a count of missing values in each column of your DataFrame.\n",
        "data.isnull().sum()"
      ]
    },
    {
      "cell_type": "code",
      "execution_count": null,
      "metadata": {
        "id": "EM8K_omykKea"
      },
      "outputs": [],
      "source": [
        "# Dropping rows with null values\n",
        "data = data.dropna()"
      ]
    },
    {
      "cell_type": "code",
      "execution_count": null,
      "metadata": {
        "colab": {
          "base_uri": "https://localhost:8080/"
        },
        "id": "_-pEjblRlB5z",
        "outputId": "5f15c346-0817-449b-ab37-f1cba1e7dae1"
      },
      "outputs": [
        {
          "output_type": "execute_result",
          "data": {
            "text/plain": [
              "(25, 26)"
            ]
          },
          "metadata": {},
          "execution_count": 7
        }
      ],
      "source": [
        "#will return a tuple with two values: the number of rows and the number of columns in your DataFrame.\n",
        "data.shape"
      ]
    },
    {
      "cell_type": "code",
      "execution_count": null,
      "metadata": {
        "colab": {
          "base_uri": "https://localhost:8080/",
          "height": 460
        },
        "id": "IQy9EjZ5lGpz",
        "outputId": "2d034ca2-299e-4ce8-aaee-3b9e85616477"
      },
      "outputs": [
        {
          "output_type": "execute_result",
          "data": {
            "text/plain": [
              "VISSP_CODE\n",
              "OCHLSYLV    8\n",
              "PSEUZONA    6\n",
              "PLATRUFI    2\n",
              "CHRYFASC    2\n",
              "PLEBACMO    1\n",
              "SYRPVITR    1\n",
              "MELIRIVA    1\n",
              "PLATSTEG    1\n",
              "MIRISPX1    1\n",
              "MEGAPERI    1\n",
              "MEGABREV    1\n",
              "Name: count, dtype: int64"
            ],
            "text/html": [
              "<div>\n",
              "<style scoped>\n",
              "    .dataframe tbody tr th:only-of-type {\n",
              "        vertical-align: middle;\n",
              "    }\n",
              "\n",
              "    .dataframe tbody tr th {\n",
              "        vertical-align: top;\n",
              "    }\n",
              "\n",
              "    .dataframe thead th {\n",
              "        text-align: right;\n",
              "    }\n",
              "</style>\n",
              "<table border=\"1\" class=\"dataframe\">\n",
              "  <thead>\n",
              "    <tr style=\"text-align: right;\">\n",
              "      <th></th>\n",
              "      <th>count</th>\n",
              "    </tr>\n",
              "    <tr>\n",
              "      <th>VISSP_CODE</th>\n",
              "      <th></th>\n",
              "    </tr>\n",
              "  </thead>\n",
              "  <tbody>\n",
              "    <tr>\n",
              "      <th>OCHLSYLV</th>\n",
              "      <td>8</td>\n",
              "    </tr>\n",
              "    <tr>\n",
              "      <th>PSEUZONA</th>\n",
              "      <td>6</td>\n",
              "    </tr>\n",
              "    <tr>\n",
              "      <th>PLATRUFI</th>\n",
              "      <td>2</td>\n",
              "    </tr>\n",
              "    <tr>\n",
              "      <th>CHRYFASC</th>\n",
              "      <td>2</td>\n",
              "    </tr>\n",
              "    <tr>\n",
              "      <th>PLEBACMO</th>\n",
              "      <td>1</td>\n",
              "    </tr>\n",
              "    <tr>\n",
              "      <th>SYRPVITR</th>\n",
              "      <td>1</td>\n",
              "    </tr>\n",
              "    <tr>\n",
              "      <th>MELIRIVA</th>\n",
              "      <td>1</td>\n",
              "    </tr>\n",
              "    <tr>\n",
              "      <th>PLATSTEG</th>\n",
              "      <td>1</td>\n",
              "    </tr>\n",
              "    <tr>\n",
              "      <th>MIRISPX1</th>\n",
              "      <td>1</td>\n",
              "    </tr>\n",
              "    <tr>\n",
              "      <th>MEGAPERI</th>\n",
              "      <td>1</td>\n",
              "    </tr>\n",
              "    <tr>\n",
              "      <th>MEGABREV</th>\n",
              "      <td>1</td>\n",
              "    </tr>\n",
              "  </tbody>\n",
              "</table>\n",
              "</div><br><label><b>dtype:</b> int64</label>"
            ]
          },
          "metadata": {},
          "execution_count": 8
        }
      ],
      "source": [
        "#number of times each unique value appears in the column\n",
        "data['VISSP_CODE'].value_counts()"
      ]
    },
    {
      "cell_type": "code",
      "execution_count": null,
      "metadata": {
        "colab": {
          "base_uri": "https://localhost:8080/",
          "height": 523
        },
        "id": "gZvQuFtjlJgs",
        "outputId": "19b978cf-3d30-4cbc-84db-ce01881caec9"
      },
      "outputs": [
        {
          "output_type": "execute_result",
          "data": {
            "text/plain": [
              "PLTSP_CODE\n",
              "PHACHAST    7\n",
              "CIRSCALL    3\n",
              "SOLICANA    3\n",
              "HERALANA    2\n",
              "HYPEPERF    2\n",
              "CHAMANGU    1\n",
              "BARBORTH    1\n",
              "ANAPMARG    1\n",
              "PLATDILA    1\n",
              "ORTHIMBR    1\n",
              "ERIGFOLI    1\n",
              "GILICAPI    1\n",
              "ACMINEVA    1\n",
              "Name: count, dtype: int64"
            ],
            "text/html": [
              "<div>\n",
              "<style scoped>\n",
              "    .dataframe tbody tr th:only-of-type {\n",
              "        vertical-align: middle;\n",
              "    }\n",
              "\n",
              "    .dataframe tbody tr th {\n",
              "        vertical-align: top;\n",
              "    }\n",
              "\n",
              "    .dataframe thead th {\n",
              "        text-align: right;\n",
              "    }\n",
              "</style>\n",
              "<table border=\"1\" class=\"dataframe\">\n",
              "  <thead>\n",
              "    <tr style=\"text-align: right;\">\n",
              "      <th></th>\n",
              "      <th>count</th>\n",
              "    </tr>\n",
              "    <tr>\n",
              "      <th>PLTSP_CODE</th>\n",
              "      <th></th>\n",
              "    </tr>\n",
              "  </thead>\n",
              "  <tbody>\n",
              "    <tr>\n",
              "      <th>PHACHAST</th>\n",
              "      <td>7</td>\n",
              "    </tr>\n",
              "    <tr>\n",
              "      <th>CIRSCALL</th>\n",
              "      <td>3</td>\n",
              "    </tr>\n",
              "    <tr>\n",
              "      <th>SOLICANA</th>\n",
              "      <td>3</td>\n",
              "    </tr>\n",
              "    <tr>\n",
              "      <th>HERALANA</th>\n",
              "      <td>2</td>\n",
              "    </tr>\n",
              "    <tr>\n",
              "      <th>HYPEPERF</th>\n",
              "      <td>2</td>\n",
              "    </tr>\n",
              "    <tr>\n",
              "      <th>CHAMANGU</th>\n",
              "      <td>1</td>\n",
              "    </tr>\n",
              "    <tr>\n",
              "      <th>BARBORTH</th>\n",
              "      <td>1</td>\n",
              "    </tr>\n",
              "    <tr>\n",
              "      <th>ANAPMARG</th>\n",
              "      <td>1</td>\n",
              "    </tr>\n",
              "    <tr>\n",
              "      <th>PLATDILA</th>\n",
              "      <td>1</td>\n",
              "    </tr>\n",
              "    <tr>\n",
              "      <th>ORTHIMBR</th>\n",
              "      <td>1</td>\n",
              "    </tr>\n",
              "    <tr>\n",
              "      <th>ERIGFOLI</th>\n",
              "      <td>1</td>\n",
              "    </tr>\n",
              "    <tr>\n",
              "      <th>GILICAPI</th>\n",
              "      <td>1</td>\n",
              "    </tr>\n",
              "    <tr>\n",
              "      <th>ACMINEVA</th>\n",
              "      <td>1</td>\n",
              "    </tr>\n",
              "  </tbody>\n",
              "</table>\n",
              "</div><br><label><b>dtype:</b> int64</label>"
            ]
          },
          "metadata": {},
          "execution_count": 9
        }
      ],
      "source": [
        "##number of times each unique value appears in the column\n",
        "data['PLTSP_CODE'].value_counts()"
      ]
    },
    {
      "cell_type": "code",
      "execution_count": null,
      "metadata": {
        "colab": {
          "base_uri": "https://localhost:8080/",
          "height": 770
        },
        "id": "Ij7xHxu4kY3k",
        "outputId": "90245a3c-7a94-46d6-de30-3b7affca989c"
      },
      "outputs": [
        {
          "output_type": "stream",
          "name": "stdout",
          "text": [
            "Requirement already satisfied: matplotlib in /usr/local/lib/python3.10/dist-packages (3.7.1)\n",
            "Collecting matplotlib\n",
            "  Downloading matplotlib-3.9.2-cp310-cp310-manylinux_2_17_x86_64.manylinux2014_x86_64.whl.metadata (11 kB)\n",
            "Requirement already satisfied: contourpy>=1.0.1 in /usr/local/lib/python3.10/dist-packages (from matplotlib) (1.3.0)\n",
            "Requirement already satisfied: cycler>=0.10 in /usr/local/lib/python3.10/dist-packages (from matplotlib) (0.12.1)\n",
            "Requirement already satisfied: fonttools>=4.22.0 in /usr/local/lib/python3.10/dist-packages (from matplotlib) (4.53.1)\n",
            "Requirement already satisfied: kiwisolver>=1.3.1 in /usr/local/lib/python3.10/dist-packages (from matplotlib) (1.4.7)\n",
            "Requirement already satisfied: numpy>=1.23 in /usr/local/lib/python3.10/dist-packages (from matplotlib) (1.26.4)\n",
            "Requirement already satisfied: packaging>=20.0 in /usr/local/lib/python3.10/dist-packages (from matplotlib) (24.1)\n",
            "Requirement already satisfied: pillow>=8 in /usr/local/lib/python3.10/dist-packages (from matplotlib) (9.4.0)\n",
            "Requirement already satisfied: pyparsing>=2.3.1 in /usr/local/lib/python3.10/dist-packages (from matplotlib) (3.1.4)\n",
            "Requirement already satisfied: python-dateutil>=2.7 in /usr/local/lib/python3.10/dist-packages (from matplotlib) (2.8.2)\n",
            "Requirement already satisfied: six>=1.5 in /usr/local/lib/python3.10/dist-packages (from python-dateutil>=2.7->matplotlib) (1.16.0)\n",
            "Downloading matplotlib-3.9.2-cp310-cp310-manylinux_2_17_x86_64.manylinux2014_x86_64.whl (8.3 MB)\n",
            "\u001b[2K   \u001b[90m━━━━━━━━━━━━━━━━━━━━━━━━━━━━━━━━━━━━━━━━\u001b[0m \u001b[32m8.3/8.3 MB\u001b[0m \u001b[31m53.8 MB/s\u001b[0m eta \u001b[36m0:00:00\u001b[0m\n",
            "\u001b[?25hInstalling collected packages: matplotlib\n",
            "  Attempting uninstall: matplotlib\n",
            "    Found existing installation: matplotlib 3.7.1\n",
            "    Uninstalling matplotlib-3.7.1:\n",
            "      Successfully uninstalled matplotlib-3.7.1\n",
            "Successfully installed matplotlib-3.9.2\n"
          ]
        },
        {
          "output_type": "display_data",
          "data": {
            "text/plain": [
              "<Figure size 640x480 with 1 Axes>"
            ],
            "image/png": "[encoded data removed]"
          },
          "metadata": {}
        }
      ],
      "source": [
        "!pip install --upgrade matplotlib\n",
        "import networkx as nx\n",
        "import matplotlib.pyplot as plt\n",
        "\n",
        "# Create a directed graph\n",
        "G = nx.DiGraph()\n",
        "\n",
        "# Add edges to the graph\n",
        "for index, row in data.iterrows():\n",
        "    G.add_edge(row['VISSP_CODE'], row['PLTSP_CODE'])\n",
        "\n",
        "# Draw the graph\n",
        "# The following line has been changed to use plt.gca()\n",
        "fig, ax = plt.subplots()\n",
        "nx.draw(G, with_labels=True, ax=ax)\n",
        "plt.show()"
      ]
    },
    {
      "cell_type": "code",
      "execution_count": null,
      "metadata": {
        "colab": {
          "base_uri": "https://localhost:8080/"
        },
        "id": "sZlBcOr9lXDT",
        "outputId": "7f4706a2-7f59-4109-9f1a-2c8bb8e66326"
      },
      "outputs": [
        {
          "output_type": "stream",
          "name": "stdout",
          "text": [
            "Degree Centrality:  {'PHACHAST': 0.08695652173913043, 'PSEUZONA': 0.043478260869565216, 'HERALANA': 0.043478260869565216, 'PLATRUFI': 0.043478260869565216, 'CHAMANGU': 0.043478260869565216, 'PLEBACMO': 0.043478260869565216, 'BARBORTH': 0.043478260869565216, 'SYRPVITR': 0.043478260869565216, 'OCHLSYLV': 0.30434782608695654, 'ANAPMARG': 0.043478260869565216, 'CIRSCALL': 0.08695652173913043, 'CHRYFASC': 0.043478260869565216, 'MELIRIVA': 0.043478260869565216, 'PLATDILA': 0.043478260869565216, 'PLATSTEG': 0.043478260869565216, 'SOLICANA': 0.08695652173913043, 'MIRISPX1': 0.043478260869565216, 'ORTHIMBR': 0.043478260869565216, 'ERIGFOLI': 0.043478260869565216, 'HYPEPERF': 0.08695652173913043, 'MEGAPERI': 0.043478260869565216, 'GILICAPI': 0.043478260869565216, 'ACMINEVA': 0.043478260869565216, 'MEGABREV': 0.043478260869565216}\n",
            "Max value of degree centrality:  0.30434782608695654\n"
          ]
        }
      ],
      "source": [
        "#nx.degree_centrality() calculates the degree centrality of each node in the graph.\n",
        "\n",
        "G = nx.from_pandas_edgelist(data[['PLTSP_CODE', 'VISSP_CODE']], source='PLTSP_CODE', target='VISSP_CODE', create_using=nx.DiGraph())\n",
        "\n",
        "# Calculate degree centrality\n",
        "degree_centrality = nx.degree_centrality(G)\n",
        "print(\"Degree Centrality: \", degree_centrality)\n",
        "\n",
        "# Find the maximum value of degree centrality\n",
        "max_value_dc = max(degree_centrality.values())\n",
        "print(\"Max value of degree centrality: \", max_value_dc)"
      ]
    },
    {
      "cell_type": "code",
      "execution_count": null,
      "metadata": {
        "colab": {
          "base_uri": "https://localhost:8080/"
        },
        "id": "QNtKxNEFoelK",
        "outputId": "2a06ea17-e536-45f8-ed96-9d783fb4b360"
      },
      "outputs": [
        {
          "output_type": "stream",
          "name": "stdout",
          "text": [
            "Betweenness Centrality:  {'PHACHAST': 0.0, 'PSEUZONA': 0.0, 'HERALANA': 0.0, 'PLATRUFI': 0.0, 'CHAMANGU': 0.0, 'PLEBACMO': 0.0, 'BARBORTH': 0.0, 'SYRPVITR': 0.0, 'OCHLSYLV': 0.0, 'ANAPMARG': 0.0, 'CIRSCALL': 0.0, 'CHRYFASC': 0.0, 'MELIRIVA': 0.0, 'PLATDILA': 0.0, 'PLATSTEG': 0.0, 'SOLICANA': 0.0, 'MIRISPX1': 0.0, 'ORTHIMBR': 0.0, 'ERIGFOLI': 0.0, 'HYPEPERF': 0.0, 'MEGAPERI': 0.0, 'GILICAPI': 0.0, 'ACMINEVA': 0.0, 'MEGABREV': 0.0}\n",
            "Max value of betweenness centrality:  0.0\n"
          ]
        }
      ],
      "source": [
        "# Calculate betweenness centrality\n",
        "betweenness_centrality = nx.betweenness_centrality(G)\n",
        "print(\"Betweenness Centrality: \", betweenness_centrality)\n",
        "\n",
        "# Find the maximum value of betweenness centrality\n",
        "max_value_bc = max(betweenness_centrality.values())\n",
        "print(\"Max value of betweenness centrality: \", max_value_bc)"
      ]
    },
    {
      "cell_type": "code",
      "execution_count": null,
      "metadata": {
        "colab": {
          "base_uri": "https://localhost:8080/"
        },
        "id": "Y7lx2AIXpGiJ",
        "outputId": "65002202-fc81-49ea-9529-74edb4632f6a"
      },
      "outputs": [
        {
          "output_type": "stream",
          "name": "stdout",
          "text": [
            "k-core centrality:  [1, 1, 1, 1, 1, 1, 1, 1, 1, 1, 1, 1, 1, 1, 1, 1, 1, 1, 1, 1, 1, 1, 1, 1]\n",
            "Maximum value in k_core: 1\n"
          ]
        }
      ],
      "source": [
        "# Remove self-loops from the graph\n",
        "G.remove_edges_from(nx.selfloop_edges(G))\n",
        "\n",
        "# Calculate k-core centrality\n",
        "k_core = list(nx.core_number(G).values())\n",
        "\n",
        "print(\"k-core centrality: \", k_core)\n",
        "\n",
        "# Convert k-core centrality to a NumPy array\n",
        "k_core_array = np.array(k_core)\n",
        "\n",
        "# Find the node(s) with the maximum k-core centrality\n",
        "max_value_kc = np.max(k_core_array)\n",
        "print(f\"Maximum value in k_core: {max_value_kc}\")"
      ]
    },
    {
      "cell_type": "code",
      "execution_count": null,
      "metadata": {
        "colab": {
          "base_uri": "https://localhost:8080/"
        },
        "id": "gFMFWSKptoK-",
        "outputId": "d09773ca-09f5-4d6b-d0a3-c22bf2b4c1c1"
      },
      "outputs": [
        {
          "output_type": "stream",
          "name": "stdout",
          "text": [
            "Closeness centrality:  {'PHACHAST': 0.21739130434782608, 'PSEUZONA': 0.14992503748125938, 'HERALANA': 0.043478260869565216, 'PLATRUFI': 0.043478260869565216, 'CHAMANGU': 0.043478260869565216, 'PLEBACMO': 0.043478260869565216, 'BARBORTH': 0.043478260869565216, 'SYRPVITR': 0.043478260869565216, 'OCHLSYLV': 0.33444816053511706, 'ANAPMARG': 0.1976284584980237, 'CIRSCALL': 0.08695652173913043, 'CHRYFASC': 0.05797101449275362, 'MELIRIVA': 0.05797101449275362, 'PLATDILA': 0.043478260869565216, 'PLATSTEG': 0.043478260869565216, 'SOLICANA': 0.21739130434782608, 'MIRISPX1': 0.14992503748125938, 'ORTHIMBR': 0.1976284584980237, 'ERIGFOLI': 0.1976284584980237, 'HYPEPERF': 0.21739130434782608, 'MEGAPERI': 0.14992503748125938, 'GILICAPI': 0.1976284584980237, 'ACMINEVA': 0.043478260869565216, 'MEGABREV': 0.043478260869565216}\n",
            "Max value of closeness centrality:  0.33444816053511706\n"
          ]
        }
      ],
      "source": [
        "G = nx.from_pandas_edgelist(data, 'PLTSP_CODE', 'VISSP_CODE')\n",
        "\n",
        "# Calculate closeness centrality\n",
        "closeness_centrality = nx.closeness_centrality(G)\n",
        "print(\"Closeness centrality: \",closeness_centrality)\n",
        "\n",
        "# Find the maximum value of closeness centrality\n",
        "max_value_cc = max(closeness_centrality.values())\n",
        "print(\"Max value of closeness centrality: \", max_value_cc)"
      ]
    },
    {
      "cell_type": "code",
      "execution_count": null,
      "metadata": {
        "colab": {
          "base_uri": "https://localhost:8080/"
        },
        "id": "JXJ6Mi8dOEUp",
        "outputId": "ddb29ec7-f7c3-4a47-d7d9-bec53deab849"
      },
      "outputs": [
        {
          "output_type": "stream",
          "name": "stdout",
          "text": [
            "PageRank:  {'PHACHAST': 0.04599097446678256, 'PSEUZONA': 0.0257968920045325, 'HERALANA': 0.041666666666666664, 'PLATRUFI': 0.041666666666666664, 'CHAMANGU': 0.041666666666666664, 'PLEBACMO': 0.041666666666666664, 'BARBORTH': 0.041666666666666664, 'SYRPVITR': 0.041666666666666664, 'OCHLSYLV': 0.14671235744306868, 'ANAPMARG': 0.02406434411907985, 'CIRSCALL': 0.06081212226333318, 'CHRYFASC': 0.0320939388683334, 'MELIRIVA': 0.0320939388683334, 'PLATDILA': 0.041666666666666664, 'PLATSTEG': 0.041666666666666664, 'SOLICANA': 0.04599097446678256, 'MIRISPX1': 0.0257968920045325, 'ORTHIMBR': 0.02406434411907985, 'ERIGFOLI': 0.02406434411907985, 'HYPEPERF': 0.04599097446678256, 'MEGAPERI': 0.0257968920045325, 'GILICAPI': 0.02406434411907985, 'ACMINEVA': 0.041666666666666664, 'MEGABREV': 0.041666666666666664}\n",
            "Max value of Pagerank:  0.14671235744306868\n"
          ]
        }
      ],
      "source": [
        "# Calculate PageRank\n",
        "pagerank = nx.pagerank(G)\n",
        "\n",
        "print(\"PageRank: \", pagerank)\n",
        "\n",
        "# Find the maximum value of PageRank\n",
        "max_value_pr = max(pagerank.values())\n",
        "\n",
        "print(\"Max value of Pagerank: \", max_value_pr)"
      ]
    },
    {
      "cell_type": "code",
      "execution_count": null,
      "metadata": {
        "colab": {
          "base_uri": "https://localhost:8080/"
        },
        "id": "3-1xmQQ6lcn7",
        "outputId": "128e14d2-b7ee-4109-f4b8-8d7234c2b7d7"
      },
      "outputs": [
        {
          "output_type": "stream",
          "name": "stdout",
          "text": [
            "<class 'pandas.core.frame.DataFrame'>\n",
            "Index: 25 entries, 9059 to 73421\n",
            "Data columns (total 26 columns):\n",
            " #   Column      Non-Null Count  Dtype  \n",
            "---  ------      --------------  -----  \n",
            " 0   DBCODE      25 non-null     object \n",
            " 1   ENTITY      25 non-null     int64  \n",
            " 2   COMPLEX     25 non-null     object \n",
            " 3   MEADOW      25 non-null     object \n",
            " 4   PLOT_ID     25 non-null     object \n",
            " 5   YEAR        25 non-null     int64  \n",
            " 6   SAMPLEDATE  25 non-null     object \n",
            " 7   WATCH       25 non-null     float64\n",
            " 8   OBSERVER    25 non-null     object \n",
            " 9   PLOT        25 non-null     int64  \n",
            " 10  START_TIME  25 non-null     float64\n",
            " 11  END_TIME    25 non-null     float64\n",
            " 12  MINUTE      25 non-null     float64\n",
            " 13  CLOUDS      25 non-null     object \n",
            " 14  WIND        25 non-null     object \n",
            " 15  TEMP        25 non-null     float64\n",
            " 16  PPI_STATUS  25 non-null     int64  \n",
            " 17  NO_INT      25 non-null     float64\n",
            " 18  PLTSP_CODE  25 non-null     object \n",
            " 19  PLTSP_NAME  25 non-null     object \n",
            " 20  VISSP_CODE  25 non-null     object \n",
            " 21  VISSP_NAME  25 non-null     object \n",
            " 22  VISSP_TYPE  25 non-null     object \n",
            " 23  REF_NO      25 non-null     object \n",
            " 24  VISSP_NO    25 non-null     int64  \n",
            " 25  QC_NOTES    25 non-null     object \n",
            "dtypes: float64(6), int64(5), object(15)\n",
            "memory usage: 5.3+ KB\n"
          ]
        }
      ],
      "source": [
        "#to extract the column number of PLTSP_CODE\n",
        "data.columns.get_loc('PLTSP_CODE')\n",
        "\n",
        "#to extract the column number of VISSP_CODE\n",
        "data.columns.get_loc('VISSP_CODE')\n",
        "\n",
        "data.info()"
      ]
    },
    {
      "cell_type": "code",
      "execution_count": null,
      "metadata": {
        "colab": {
          "base_uri": "https://localhost:8080/"
        },
        "id": "cEMBZ8-Zlclc",
        "outputId": "4959904d-427b-4133-be60-589d264eb5a3"
      },
      "outputs": [
        {
          "output_type": "stream",
          "name": "stdout",
          "text": [
            "Cluster 1: frozenset({'ERIGFOLI', 'MEGAPERI', 'OCHLSYLV', 'HYPEPERF', 'ORTHIMBR', 'GILICAPI', 'ANAPMARG'})\n",
            "Cluster 2: frozenset({'CHRYFASC', 'CIRSCALL', 'MELIRIVA'})\n",
            "Cluster 3: frozenset({'PHACHAST', 'PSEUZONA'})\n",
            "Cluster 4: frozenset({'HERALANA', 'PLATRUFI'})\n",
            "Cluster 5: frozenset({'PLEBACMO', 'CHAMANGU'})\n",
            "Cluster 6: frozenset({'BARBORTH', 'SYRPVITR'})\n",
            "Cluster 7: frozenset({'PLATDILA', 'PLATSTEG'})\n",
            "Cluster 8: frozenset({'MIRISPX1', 'SOLICANA'})\n",
            "Cluster 9: frozenset({'ACMINEVA', 'MEGABREV'})\n"
          ]
        }
      ],
      "source": [
        "# Extracting Edge Data from the DataFrame\n",
        "X = data[['PLTSP_CODE', 'VISSP_CODE']].values\n",
        "X = X.astype(str)\n",
        "\n",
        "#Creating an Undirected Graph\n",
        "G = nx.Graph()\n",
        "G.add_edges_from(X)\n",
        "\n",
        "#Performing Community Detection using Greedy Modularity\n",
        "clusters = nx.algorithms.community.greedy_modularity_communities(G)\n",
        "\n",
        "#Printing the Clusters\n",
        "for i, cluster in enumerate(clusters):\n",
        "  print(f\"Cluster {i + 1}: {cluster}\")"
      ]
    },
    {
      "cell_type": "code",
      "execution_count": null,
      "metadata": {
        "colab": {
          "base_uri": "https://localhost:8080/",
          "height": 766
        },
        "id": "JUwPJsOLsBF-",
        "outputId": "a81bcce7-f244-408c-fb94-47c29a89acec"
      },
      "outputs": [
        {
          "output_type": "display_data",
          "data": {
            "text/plain": [
              "<Figure size 1000x800 with 2 Axes>"
            ],
            "image/png": "[encoded data removed]"
          },
          "metadata": {}
        }
      ],
      "source": [
        "#Selecting Columns from the DataFrame\n",
        "sc = data[['PLTSP_CODE', 'VISSP_CODE']]\n",
        "\n",
        "#Creating a Pivot Table\n",
        "pivot_table = sc.pivot_table(index='PLTSP_CODE', columns='VISSP_CODE', aggfunc=len)\n",
        "\n",
        "#Creating a Heatmap\n",
        "plt.figure(figsize=(10, 8))\n",
        "sns.heatmap(pivot_table, cmap='coolwarm', annot=True, fmt='g')\n",
        "\n",
        "#Displaying the Heatmap\n",
        "plt.show()"
      ]
    },
    {
      "cell_type": "code",
      "execution_count": null,
      "metadata": {
        "colab": {
          "base_uri": "https://localhost:8080/",
          "height": 406
        },
        "id": "aKznw8GGkhsw",
        "outputId": "fdff4fa7-3deb-4b54-fc7d-c51d2f652cd5"
      },
      "outputs": [
        {
          "output_type": "display_data",
          "data": {
            "text/plain": [
              "<Figure size 640x480 with 1 Axes>"
            ],
            "image/png": "[encoded data removed]"
          },
          "metadata": {}
        }
      ],
      "source": [
        "# Initialize a bipartite graph\n",
        "B = nx.Graph()\n",
        "\n",
        "# Add nodes with the node attribute \"bipartite\"\n",
        "vissp_nodes = data['VISSP_CODE'].unique()\n",
        "pltsp_nodes = data['PLTSP_CODE'].unique()\n",
        "B.add_nodes_from(vissp_nodes, bipartite=0)\n",
        "B.add_nodes_from(pltsp_nodes, bipartite=1)\n",
        "\n",
        "# Add edges between VISSP_CODE and PLTSP_CODE based on the DataFrame\n",
        "for _, row in data.iterrows():\n",
        "    B.add_edge(row['VISSP_CODE'], row['PLTSP_CODE'])\n",
        "\n",
        "# Position nodes\n",
        "pos = {}\n",
        "pos.update((node, (1, index)) for index, node in enumerate(vissp_nodes))  # X-axis = 1\n",
        "pos.update((node, (2, index)) for index, node in enumerate(pltsp_nodes))  # X-axis = 2\n",
        "\n",
        "# Draw the bipartite graph\n",
        "fig, ax = plt.subplots()  # Create a figure and an axes object explicitly\n",
        "nx.draw(B, pos, with_labels=True, node_color=['skyblue']*len(vissp_nodes) + ['lightgreen']*len(pltsp_nodes), node_size=500, font_size=12, font_color='black', ax=ax) # Pass the axes object to nx.draw\n",
        "plt.show()"
      ]
    },
    {
      "cell_type": "code",
      "execution_count": null,
      "metadata": {
        "colab": {
          "base_uri": "https://localhost:8080/"
        },
        "id": "qbeY4ltzqxdM",
        "outputId": "013f4f30-498b-4493-f1b9-e20168e4b089"
      },
      "outputs": [
        {
          "output_type": "stream",
          "name": "stdout",
          "text": [
            "Bi-cluster for PLOT_ID CPB05\n",
            "PLTSP_CODE  PHACHAST\n",
            "VISSP_CODE          \n",
            "PSEUZONA           1\n",
            "Bi-cluster for PLOT_ID CPB10\n",
            "PLTSP_CODE  HERALANA\n",
            "VISSP_CODE          \n",
            "PLATRUFI           2\n",
            "Bi-cluster for PLOT_ID CPM04\n",
            "PLTSP_CODE  CHAMANGU\n",
            "VISSP_CODE          \n",
            "PLEBACMO           1\n",
            "Bi-cluster for PLOT_ID CPM06\n",
            "PLTSP_CODE  PHACHAST\n",
            "VISSP_CODE          \n",
            "PSEUZONA           1\n",
            "Bi-cluster for PLOT_ID FNE06\n",
            "PLTSP_CODE  ANAPMARG  BARBORTH  PHACHAST\n",
            "VISSP_CODE                              \n",
            "OCHLSYLV           1         0         1\n",
            "PSEUZONA           0         0         2\n",
            "SYRPVITR           0         1         0\n",
            "Bi-cluster for PLOT_ID FNE08\n",
            "PLTSP_CODE  CIRSCALL  PHACHAST\n",
            "VISSP_CODE                    \n",
            "CHRYFASC           2         0\n",
            "MELIRIVA           1         0\n",
            "PSEUZONA           0         2\n",
            "Bi-cluster for PLOT_ID LOB03\n",
            "PLTSP_CODE  PLATDILA\n",
            "VISSP_CODE          \n",
            "PLATSTEG           1\n",
            "Bi-cluster for PLOT_ID LOM01\n",
            "PLTSP_CODE  SOLICANA\n",
            "VISSP_CODE          \n",
            "MIRISPX1           1\n",
            "OCHLSYLV           1\n",
            "Bi-cluster for PLOT_ID LOM10\n",
            "PLTSP_CODE  ORTHIMBR\n",
            "VISSP_CODE          \n",
            "OCHLSYLV           1\n",
            "Bi-cluster for PLOT_ID LOO07\n",
            "PLTSP_CODE  ERIGFOLI\n",
            "VISSP_CODE          \n",
            "OCHLSYLV           1\n",
            "Bi-cluster for PLOT_ID LOS06\n",
            "PLTSP_CODE  HYPEPERF\n",
            "VISSP_CODE          \n",
            "MEGAPERI           1\n",
            "Bi-cluster for PLOT_ID LOS08\n",
            "PLTSP_CODE  GILICAPI  SOLICANA\n",
            "VISSP_CODE                    \n",
            "OCHLSYLV           1         1\n",
            "Bi-cluster for PLOT_ID RP102\n",
            "PLTSP_CODE  ACMINEVA\n",
            "VISSP_CODE          \n",
            "MEGABREV           1\n",
            "Bi-cluster for PLOT_ID RP208\n",
            "PLTSP_CODE  HYPEPERF\n",
            "VISSP_CODE          \n",
            "OCHLSYLV           1\n"
          ]
        }
      ],
      "source": [
        "#bi-cluster of VISSP_CODE and PLTSP_CODE for each unique value of PLOT_ID\n",
        "\n",
        "import pandas as pd\n",
        "# Group the data by PLOT_ID and create a bi-cluster for each group\n",
        "grouped_data = data.groupby('PLOT_ID')\n",
        "bi_clusters = {}\n",
        "for plot_id, group_data in grouped_data:\n",
        "    # Create a bi-cluster of VISSP_CODE and PLTSP_CODE\n",
        "    bi_cluster = pd.crosstab(group_data['VISSP_CODE'], group_data['PLTSP_CODE'])\n",
        "    bi_clusters[plot_id] = bi_cluster\n",
        "\n",
        "# Print the bi-clusters\n",
        "for plot_id, bi_cluster in bi_clusters.items():\n",
        "    print(f'Bi-cluster for PLOT_ID {plot_id}')\n",
        "    print(bi_cluster)"
      ]
    },
    {
      "cell_type": "code",
      "source": [
        "#  split the dataset in test and train set\n",
        "\n",
        "from sklearn.model_selection import train_test_split\n",
        "\n",
        "# If you don't have a specific target variable, you can split the data directly:\n",
        "X = data\n",
        "\n",
        "# Split the data into training and testing sets\n",
        "X_train, X_test = train_test_split(X, test_size=0.2, random_state=42)\n",
        "\n",
        "# Print the shapes of the resulting sets\n",
        "print(\"X_train shape:\", X_train.shape)\n",
        "print(\"X_test shape:\", X_test.shape)"
      ],
      "metadata": {
        "colab": {
          "base_uri": "https://localhost:8080/"
        },
        "id": "F5F4KwuWGeeK",
        "outputId": "7e1acbb4-c6be-4498-8e73-7e9a0d1d8900"
      },
      "execution_count": null,
      "outputs": [
        {
          "output_type": "stream",
          "name": "stdout",
          "text": [
            "X_train shape: (20, 26)\n",
            "X_test shape: (5, 26)\n"
          ]
        }
      ]
    },
    {
      "cell_type": "code",
      "source": [
        "import pandas as pd\n",
        "from sklearn.model_selection import train_test_split\n",
        "from sklearn.metrics.pairwise import cosine_similarity\n",
        "\n",
        "# Splitting the dataset into training and testing sets\n",
        "X_train, X_test = train_test_split(data, test_size=0.2, random_state=42)\n",
        "\n",
        "# the interaction matrix for training data\n",
        "interaction_matrix_train = X_train.pivot_table(index='VISSP_CODE', columns='PLTSP_CODE', aggfunc='size', fill_value=0)\n",
        "\n",
        "# similarity between visitors (user-based CF) or plants (item-based CF)\n",
        "visitor_similarity = cosine_similarity(interaction_matrix_train)\n",
        "plant_similarity = cosine_similarity(interaction_matrix_train.T)\n",
        "\n",
        "# conversion of similarities to DataFrames for easier interpretation\n",
        "visitor_similarity_df = pd.DataFrame(visitor_similarity, index=interaction_matrix_train.index, columns=interaction_matrix_train.index)\n",
        "plant_similarity_df = pd.DataFrame(plant_similarity, index=interaction_matrix_train.columns, columns=interaction_matrix_train.columns)\n",
        "\n",
        "# prediction of missing interactions for each visitor using collaborative filtering\n",
        "def predict_interactions(similarity_matrix, interaction_matrix, type='user'):\n",
        "    if type == 'user':\n",
        "        # User-based CF: Predict as dot product of similarity and interaction matrix\n",
        "        predictions = similarity_matrix.dot(interaction_matrix) / similarity_matrix.sum(axis=1)[:, None]\n",
        "    else:\n",
        "        # Item-based CF: Predict as dot product of interaction and similarity matrix (transpose)\n",
        "        predictions = interaction_matrix.dot(similarity_matrix) / similarity_matrix.sum(axis=1)\n",
        "    return predictions\n",
        "\n",
        "# Prediction of interactions (user-based CF in this case)\n",
        "predicted_interactions = predict_interactions(visitor_similarity, interaction_matrix_train, type='user')\n",
        "\n",
        "# Convertion of predictions to DataFrame\n",
        "predicted_df = pd.DataFrame(predicted_interactions, index=interaction_matrix_train.index, columns=interaction_matrix_train.columns)\n",
        "\n",
        "# Evaluation on the test set\n",
        "# Actual interactions from test set\n",
        "interaction_matrix_test = X_test.pivot_table(index='VISSP_CODE', columns='PLTSP_CODE', aggfunc='size', fill_value=0)\n",
        "\n",
        "# Prediction of missing interactions for each visitor\n",
        "print(predicted_df.head())"
      ],
      "metadata": {
        "colab": {
          "base_uri": "https://localhost:8080/"
        },
        "id": "sxVColpgPo2R",
        "outputId": "3dae934c-aa10-4f33-c4fc-500149a7639f"
      },
      "execution_count": null,
      "outputs": [
        {
          "output_type": "stream",
          "name": "stdout",
          "text": [
            "PLTSP_CODE  ANAPMARG  BARBORTH  CHAMANGU  CIRSCALL  ERIGFOLI  GILICAPI  \\\n",
            "VISSP_CODE                                                               \n",
            "CHRYFASC    0.000000       0.0       0.0       1.5  0.000000  0.000000   \n",
            "MEGAPERI    0.274292       0.0       0.0       0.0  0.274292  0.274292   \n",
            "MELIRIVA    0.000000       0.0       0.0       1.5  0.000000  0.000000   \n",
            "MIRISPX1    0.274292       0.0       0.0       0.0  0.274292  0.274292   \n",
            "OCHLSYLV    0.468627       0.0       0.0       0.0  0.468627  0.468627   \n",
            "\n",
            "PLTSP_CODE  HERALANA  HYPEPERF  ORTHIMBR  PHACHAST  PLATDILA  SOLICANA  \n",
            "VISSP_CODE                                                              \n",
            "CHRYFASC         0.0  0.000000  0.000000  0.000000       0.0  0.000000  \n",
            "MEGAPERI         0.0  1.000000  0.274292  0.274292       0.0  0.274292  \n",
            "MELIRIVA         0.0  0.000000  0.000000  0.000000       0.0  0.000000  \n",
            "MIRISPX1         0.0  0.274292  0.274292  0.274292       0.0  1.000000  \n",
            "OCHLSYLV         0.0  0.645751  0.468627  1.000000       0.0  0.645751  \n"
          ]
        }
      ]
    },
    {
      "cell_type": "code",
      "source": [
        "from sklearn.metrics import precision_score, recall_score, f1_score\n",
        "# Convertion of actual interaction matrix to binary\n",
        "interaction_matrix_test_binary = interaction_matrix_test.map(lambda x: 1 if x > 0 else 0)\n",
        "\n",
        "# Binarizing the predicted interaction matrix based on a threshold\n",
        "# threshold for predicting a link is 0.5\n",
        "predicted_df_binary = predicted_df.map(lambda x: 1 if x >= 0.5 else 0)\n",
        "\n",
        "# common indices and columns\n",
        "common_indices = predicted_df_binary.index.intersection(interaction_matrix_test_binary.index)\n",
        "common_columns = predicted_df_binary.columns.intersection(interaction_matrix_test_binary.columns)\n",
        "\n",
        "# Filtering DataFrames based on common indices and columns\n",
        "interaction_matrix_test_binary = interaction_matrix_test_binary.loc[common_indices, common_columns]\n",
        "predicted_df_binary = predicted_df_binary.loc[common_indices, common_columns]\n",
        "\n",
        "# Flatten the matrices for comparison\n",
        "y_true = interaction_matrix_test_binary.stack().values  # Actual interactions\n",
        "y_pred = predicted_df_binary.stack().values             # Predicted interactions\n",
        "\n",
        "# accuracy metrics\n",
        "precision = precision_score(y_true, y_pred)\n",
        "recall = recall_score(y_true, y_pred)\n",
        "f1 = f1_score(y_true, y_pred)\n",
        "\n",
        "# accuracy results\n",
        "print(f\"Precision: {precision:.4f}\")\n",
        "print(f\"Recall: {recall:.4f}\")\n",
        "print(f\"F1 Score: {f1:.4f}\")"
      ],
      "metadata": {
        "colab": {
          "base_uri": "https://localhost:8080/"
        },
        "id": "NG7hNtHPQMSY",
        "outputId": "195d3702-8522-4c80-b6fc-0129ce2b8c29"
      },
      "execution_count": null,
      "outputs": [
        {
          "output_type": "stream",
          "name": "stdout",
          "text": [
            "Precision: 0.6667\n",
            "Recall: 1.0000\n",
            "F1 Score: 0.8000\n"
          ]
        }
      ]
    },
    {
      "cell_type": "code",
      "source": [
        "import numpy as np\n",
        "from sklearn.metrics import confusion_matrix, classification_report\n",
        "import seaborn as sns\n",
        "import matplotlib.pyplot as plt\n",
        "\n",
        "# Convert predicted values to binary (interaction or no interaction) based on a threshold\n",
        "def binarize_interactions(predictions, threshold=0.5):\n",
        "    \"\"\"\n",
        "    Convert continuous prediction values into binary values.\n",
        "\n",
        "    :param predictions: DataFrame, predicted interaction matrix\n",
        "    :param threshold: float, the value above which the prediction is considered an interaction (1)\n",
        "    :return: DataFrame, binary interaction matrix\n",
        "    \"\"\"\n",
        "    binary_predictions = predictions.applymap(lambda x: 1 if x >= threshold else 0)\n",
        "    return binary_predictions\n",
        "\n",
        "# Convert test interaction matrix to binary (1 if interaction exists, else 0)\n",
        "def binarize_test_interactions(interaction_matrix_test):\n",
        "    \"\"\"\n",
        "    Convert the test interaction matrix into a binary format (1 if interaction exists, else 0).\n",
        "\n",
        "    :param interaction_matrix_test: DataFrame, actual interaction matrix for the test set\n",
        "    :return: DataFrame, binary interaction matrix\n",
        "    \"\"\"\n",
        "    return interaction_matrix_test.applymap(lambda x: 1 if x > 0 else 0)\n",
        "\n",
        "# Binarize the predicted and actual interaction matrices\n",
        "predicted_binary = binarize_interactions(predicted_df, threshold=0.5)  # Adjust the threshold if needed\n",
        "actual_binary = binarize_test_interactions(interaction_matrix_test)\n",
        "\n",
        "#get common indices and columns for both dataframes\n",
        "common_indices = predicted_binary.index.intersection(actual_binary.index)\n",
        "common_columns = predicted_binary.columns.intersection(actual_binary.columns)\n",
        "\n",
        "#filter both dataframes using common indices and columns\n",
        "predicted_binary = predicted_binary.loc[common_indices, common_columns]\n",
        "actual_binary = actual_binary.loc[common_indices, common_columns]\n",
        "\n",
        "# Flatten both matrices into 1D arrays for comparison in the confusion matrix\n",
        "actual_flatten = actual_binary.values.flatten()\n",
        "predicted_flatten = predicted_binary.values.flatten()\n",
        "\n",
        "# Generate the confusion matrix\n",
        "conf_matrix = confusion_matrix(actual_flatten, predicted_flatten)\n",
        "\n",
        "# Plot confusion matrix using seaborn\n",
        "plt.figure(figsize=(6, 6))\n",
        "sns.heatmap(conf_matrix, annot=True, fmt=\"d\", cmap=\"Blues\", xticklabels=[\"No Interaction\", \"Interaction\"], yticklabels=[\"No Interaction\", \"Interaction\"])\n",
        "plt.title('Confusion Matrix for Predicted vs Actual Missing Links')\n",
        "plt.xlabel('Predicted')\n",
        "plt.ylabel('Actual')\n",
        "plt.show()\n",
        "\n",
        "# Print classification report for additional evaluation metrics (precision, recall, F1-score)\n",
        "print(classification_report(actual_flatten, predicted_flatten, target_names=[\"No Interaction\", \"Interaction\"]))"
      ],
      "metadata": {
        "colab": {
          "base_uri": "https://localhost:8080/",
          "height": 790
        },
        "id": "39jj9VBRyfpf",
        "outputId": "ac484fa3-a388-42b2-a39f-3b9d2748481a"
      },
      "execution_count": null,
      "outputs": [
        {
          "output_type": "stream",
          "name": "stderr",
          "text": [
            "<ipython-input-24-add244ccce10>:15: FutureWarning: DataFrame.applymap has been deprecated. Use DataFrame.map instead.\n",
            "  binary_predictions = predictions.applymap(lambda x: 1 if x >= threshold else 0)\n",
            "<ipython-input-24-add244ccce10>:26: FutureWarning: DataFrame.applymap has been deprecated. Use DataFrame.map instead.\n",
            "  return interaction_matrix_test.applymap(lambda x: 1 if x > 0 else 0)\n"
          ]
        },
        {
          "output_type": "display_data",
          "data": {
            "text/plain": [
              "<Figure size 600x600 with 2 Axes>"
            ],
            "image/png": "[encoded data removed]"
          },
          "metadata": {}
        },
        {
          "output_type": "stream",
          "name": "stdout",
          "text": [
            "                precision    recall  f1-score   support\n",
            "\n",
            "No Interaction       1.00      0.50      0.67         2\n",
            "   Interaction       0.67      1.00      0.80         2\n",
            "\n",
            "      accuracy                           0.75         4\n",
            "     macro avg       0.83      0.75      0.73         4\n",
            "  weighted avg       0.83      0.75      0.73         4\n",
            "\n"
          ]
        }
      ]
    },
    {
      "cell_type": "code",
      "source": [
        "# R2 score , RMSE MSE MAE for the above model\n",
        "\n",
        "from sklearn.metrics import r2_score, mean_squared_error, mean_absolute_error\n",
        "import math\n",
        "\n",
        "# common indices and columns for filtering\n",
        "common_indices = predicted_df.index.intersection(interaction_matrix_test.index)\n",
        "common_columns = predicted_df.columns.intersection(interaction_matrix_test.columns)\n",
        "\n",
        "# filtering DataFrames based on common indices and columns\n",
        "interaction_matrix_test_filtered = interaction_matrix_test.loc[common_indices, common_columns]\n",
        "predicted_df_filtered = predicted_df.loc[common_indices, common_columns]\n",
        "\n",
        "# Flatten the matrices for comparison\n",
        "y_true = interaction_matrix_test_filtered.stack().values  # Actual interactions\n",
        "y_pred = predicted_df_filtered.stack().values             # Predicted interactions\n",
        "\n",
        "# Calculation of R2 score\n",
        "r2 = r2_score(y_true, y_pred)\n",
        "print(f\"R2 Score: {r2:.4f}\")\n",
        "\n",
        "# Calculation of MSE\n",
        "mse = mean_squared_error(y_true, y_pred)\n",
        "print(f\"MSE: {mse:.4f}\")\n",
        "\n",
        "# Calculation of RMSE\n",
        "rmse = math.sqrt(mse)\n",
        "print(f\"RMSE: {rmse:.4f}\")\n",
        "\n",
        "# Calculation of MAE\n",
        "mae = mean_absolute_error(y_true, y_pred)\n",
        "print(f\"MAE: {mae:.4f}\")"
      ],
      "metadata": {
        "colab": {
          "base_uri": "https://localhost:8080/"
        },
        "id": "3b2GvFnrMVit",
        "outputId": "450db7a4-ec01-4605-d74d-7910b1ad88ae"
      },
      "execution_count": null,
      "outputs": [
        {
          "output_type": "stream",
          "name": "stdout",
          "text": [
            "R2 Score: 0.7497\n",
            "MSE: 0.3754\n",
            "RMSE: 0.6127\n",
            "MAE: 0.5443\n"
          ]
        }
      ]
    },
    {
      "cell_type": "code",
      "source": [
        "!pip install node2vec"
      ],
      "metadata": {
        "colab": {
          "base_uri": "https://localhost:8080/"
        },
        "id": "9MCTGMv_vLN2",
        "outputId": "8a6927ec-e260-4802-dbdb-64df088fde49"
      },
      "execution_count": null,
      "outputs": [
        {
          "output_type": "stream",
          "name": "stdout",
          "text": [
            "Collecting node2vec\n",
            "  Downloading node2vec-0.5.0-py3-none-any.whl.metadata (849 bytes)\n",
            "Requirement already satisfied: gensim<5.0.0,>=4.3.0 in /usr/local/lib/python3.10/dist-packages (from node2vec) (4.3.3)\n",
            "Requirement already satisfied: joblib<2.0.0,>=1.4.0 in /usr/local/lib/python3.10/dist-packages (from node2vec) (1.4.2)\n",
            "Requirement already satisfied: networkx<4.0.0,>=3.1.0 in /usr/local/lib/python3.10/dist-packages (from node2vec) (3.3)\n",
            "Requirement already satisfied: numpy<2.0.0,>=1.24.0 in /usr/local/lib/python3.10/dist-packages (from node2vec) (1.26.4)\n",
            "Requirement already satisfied: tqdm<5.0.0,>=4.66.1 in /usr/local/lib/python3.10/dist-packages (from node2vec) (4.66.5)\n",
            "Requirement already satisfied: scipy<1.14.0,>=1.7.0 in /usr/local/lib/python3.10/dist-packages (from gensim<5.0.0,>=4.3.0->node2vec) (1.13.1)\n",
            "Requirement already satisfied: smart-open>=1.8.1 in /usr/local/lib/python3.10/dist-packages (from gensim<5.0.0,>=4.3.0->node2vec) (7.0.4)\n",
            "Requirement already satisfied: wrapt in /usr/local/lib/python3.10/dist-packages (from smart-open>=1.8.1->gensim<5.0.0,>=4.3.0->node2vec) (1.16.0)\n",
            "Downloading node2vec-0.5.0-py3-none-any.whl (7.2 kB)\n",
            "Installing collected packages: node2vec\n",
            "Successfully installed node2vec-0.5.0\n"
          ]
        }
      ]
    },
    {
      "cell_type": "code",
      "source": [
        "import networkx as nx\n",
        "import pandas as pd\n",
        "from sklearn.model_selection import train_test_split\n",
        "from node2vec import Node2Vec\n",
        "from sklearn.metrics import precision_score, recall_score, f1_score, accuracy_score\n",
        "from sklearn.metrics.pairwise import cosine_similarity\n",
        "import numpy as np\n",
        "\n",
        "# Spliting the dataset into train and test sets\n",
        "X = data[['VISSP_CODE', 'PLTSP_CODE']]  # Selecting the relevant columns\n",
        "X_train, X_test = train_test_split(X, test_size=0.2, random_state=42)\n",
        "\n",
        "# Creating a graph for the training data\n",
        "G = nx.Graph()\n",
        "for _, row in X_train.iterrows():\n",
        "    G.add_edge(row['VISSP_CODE'], row['PLTSP_CODE'])\n",
        "\n",
        "# Applying Node2Vec on the training graph\n",
        "node2vec = Node2Vec(G, dimensions=64, walk_length=30, num_walks=200, workers=4)\n",
        "n2v_model = node2vec.fit(window=10, min_count=1)\n",
        "\n",
        "# prediction of the missing links for the test set\n",
        "def predict_links(X_test, model):\n",
        "    predictions = []\n",
        "    for _, row in X_test.iterrows():\n",
        "        vissp_code, pltsp_code = row['VISSP_CODE'], row['PLTSP_CODE']\n",
        "        if vissp_code in model.wv and pltsp_code in model.wv:\n",
        "            vissp_vec = model.wv[vissp_code]\n",
        "            pltsp_vec = model.wv[pltsp_code]\n",
        "            score = cosine_similarity([vissp_vec], [pltsp_vec])[0][0]\n",
        "            predictions.append(score)\n",
        "        else:\n",
        "            predictions.append(0)  # If node embedding doesn't exist, set prediction score to 0\n",
        "    return predictions\n",
        "\n",
        "# the predicted link scores\n",
        "predicted_scores = predict_links(X_test, n2v_model) # Changed model to n2v_model\n",
        "\n",
        "# binarizing predictions (0 or 1) based on a threshold\n",
        "threshold = 0.5\n",
        "y_pred = [1 if score > threshold else 0 for score in predicted_scores]\n",
        "\n",
        "# Ground truth (1 for existing links, 0 for missing links in test set)\n",
        "y_true = np.ones(len(X_test))  # Since all links in test set are known links (true positives)\n",
        "\n",
        "\n",
        "\n",
        "# missing link predictions (where predicted score = 0)\n",
        "X_test['Predicted_Link'] = y_pred\n",
        "missing_links = X_test[X_test['Predicted_Link'] == 0]\n",
        "print(\"Missing links:\")\n",
        "print(missing_links[['VISSP_CODE', 'PLTSP_CODE']])\n",
        "\n"
      ],
      "metadata": {
        "colab": {
          "base_uri": "https://localhost:8080/",
          "height": 101,
          "referenced_widgets": [
            "c27eb912ba8549f0bccaa24f3ca6cbfe",
            "cf4a4768398f45969afc8b870231adc9",
            "84e9bc900e254d6db69ee1d87b0b6737",
            "02b888bddbd947cba9060da798650c83",
            "9442d1945a3445e3851d9c8c7d1ff108",
            "896721bde270471494bb9135b9c291de",
            "482cb85f3965401ab45aac4c3c849dc1",
            "767d6295cb2346439cc55bda77c6f47f",
            "241d1fa6f4be49428375b545ea9626e9",
            "2d96988774be41be8c0df4a46e530554",
            "e7a800102c1944c1b864e0ac0789cf66"
          ]
        },
        "id": "0w7tJCuwvB1i",
        "outputId": "8fd490ae-6a33-4fb8-978b-e411b6e9437c"
      },
      "execution_count": null,
      "outputs": [
        {
          "output_type": "display_data",
          "data": {
            "text/plain": [
              "Computing transition probabilities:   0%|          | 0/22 [00:00<?, ?it/s]"
            ],
            "application/vnd.jupyter.widget-view+json": {
              "version_major": 2,
              "version_minor": 0,
              "model_id": "c27eb912ba8549f0bccaa24f3ca6cbfe"
            }
          },
          "metadata": {}
        },
        {
          "output_type": "stream",
          "name": "stdout",
          "text": [
            "Missing links:\n",
            "      VISSP_CODE PLTSP_CODE\n",
            "63379   MEGABREV   ACMINEVA\n"
          ]
        }
      ]
    },
    {
      "cell_type": "code",
      "source": [
        "# Generating negative samples (non-existent links) for the test set\n",
        "def generate_negative_samples(G, num_samples):\n",
        "    nodes = list(G.nodes())\n",
        "    negative_samples = []\n",
        "    while len(negative_samples) < num_samples:\n",
        "        u, v = np.random.choice(nodes, size=2, replace=False)\n",
        "        if not G.has_edge(u, v):  # Only add if no edge exists between u and v\n",
        "            negative_samples.append((u, v))\n",
        "    return pd.DataFrame(negative_samples, columns=['VISSP_CODE', 'PLTSP_CODE'])\n",
        "\n",
        "# Adding negative samples to the test set\n",
        "num_negative_samples = len(X_test)\n",
        "negative_samples = generate_negative_samples(G, num_negative_samples)\n",
        "X_test_neg = pd.concat([X_test, negative_samples], ignore_index=True)\n",
        "\n",
        "# Creating labels for the test set (1 for positive samples, 0 for negative samples)\n",
        "y_true = np.array([1] * len(X_test) + [0] * len(negative_samples))\n",
        "\n",
        "# Predicting link probabilities for the test set (both positive and negative samples)\n",
        "predicted_scores = predict_links(X_test_neg, n2v_model)\n",
        "\n",
        "# Binarizing predictions (0 or 1) based on a threshold\n",
        "threshold = 0.5\n",
        "y_pred = [1 if score > threshold else 0 for score in predicted_scores]\n",
        "\n",
        "# Evaluation: Precision, Recall, F1, and Accuracy\n",
        "precision = precision_score(y_true, y_pred)\n",
        "recall = recall_score(y_true, y_pred)\n",
        "f1 = f1_score(y_true, y_pred)\n",
        "accuracy = accuracy_score(y_true, y_pred)\n",
        "\n",
        "print(f\"Precision: {precision:.4f}\")\n",
        "print(f\"Recall: {recall:.4f}\")\n",
        "print(f\"F1 Score: {f1:.4f}\")\n",
        "print(f\"Accuracy: {accuracy:.4f}\")\n",
        "\n",
        "# Finding missing links (negative samples predicted as links)\n",
        "X_test_neg['Predicted_Link'] = y_pred\n",
        "missing_links = X_test_neg[(X_test_neg['Predicted_Link'] == 0) & (y_true == 0)]\n",
        "print(\"Missing links:\")\n",
        "print(missing_links[['VISSP_CODE', 'PLTSP_CODE']])\n"
      ],
      "metadata": {
        "colab": {
          "base_uri": "https://localhost:8080/"
        },
        "id": "Il4pejfQ4TFc",
        "outputId": "15e706ff-0e6c-4c2c-bfea-c0d417da6eb5"
      },
      "execution_count": null,
      "outputs": [
        {
          "output_type": "stream",
          "name": "stdout",
          "text": [
            "Precision: 0.8000\n",
            "Recall: 0.8000\n",
            "F1 Score: 0.8000\n",
            "Accuracy: 0.8000\n",
            "Missing links:\n",
            "  VISSP_CODE PLTSP_CODE\n",
            "5   HERALANA   PHACHAST\n",
            "6   PLEBACMO   PLATSTEG\n",
            "8   BARBORTH   MELIRIVA\n",
            "9   PLATSTEG   SOLICANA\n"
          ]
        }
      ]
    },
    {
      "cell_type": "code",
      "source": [
        "import numpy as np\n",
        "from sklearn.metrics import confusion_matrix, classification_report\n",
        "import seaborn as sns\n",
        "import matplotlib.pyplot as plt\n",
        "\n",
        "# Step 1: Prepare Ground Truth Labels (Actual Missing and Existing Links)\n",
        "# Assuming that the test set contains both positive and negative examples:\n",
        "# 1 = link exists (true positive), 0 = missing link (true negative)\n",
        "# For example, we randomly add 50% negative links (non-existent links) to the test set\n",
        "\n",
        "# Create negative samples (non-existent links) for the test set\n",
        "negative_samples = []\n",
        "for i in range(len(X_test)):\n",
        "    vissp_code = X_test.iloc[i]['VISSP_CODE']\n",
        "    negative_link = np.random.choice(X_train['PLTSP_CODE'].unique())  # Randomly select a plant that doesn't have a link\n",
        "    if not G.has_edge(vissp_code, negative_link):  # Ensure it's a missing link in training data\n",
        "        negative_samples.append([vissp_code, negative_link])\n",
        "\n",
        "# Convert negative_samples to a DataFrame and combine with X_test\n",
        "negative_df = pd.DataFrame(negative_samples, columns=['VISSP_CODE', 'PLTSP_CODE'])\n",
        "X_test_combined = pd.concat([X_test, negative_df], ignore_index=True)\n",
        "\n",
        "# Step 2: Predict links for the combined test set\n",
        "predicted_scores_combined = predict_links(X_test_combined, n2v_model) # Changed model to n2v_model\n",
        "\n",
        "# Step 3: Binarize predicted scores using a threshold (e.g., 0.5)\n",
        "threshold = 0.5\n",
        "y_pred = [1 if score > threshold else 0 for score in predicted_scores_combined]\n",
        "\n",
        "# Step 4: Prepare actual labels (1 for real links, 0 for missing links)\n",
        "# First part of X_test_combined are real links (y_true = 1), second part are negative samples (y_true = 0)\n",
        "y_true = np.array([1] * len(X_test) + [0] * len(negative_df))\n",
        "\n",
        "# Step 5: Generate Confusion Matrix\n",
        "conf_matrix = confusion_matrix(y_true, y_pred)\n",
        "\n",
        "# Step 6: Visualize Confusion Matrix using seaborn\n",
        "plt.figure(figsize=(6, 6))\n",
        "sns.heatmap(conf_matrix, annot=True, fmt=\"d\", cmap=\"Blues\", xticklabels=[\"Predicted Missing\", \"Predicted Link\"], yticklabels=[\"Actual Missing\", \"Actual Link\"])\n",
        "plt.title('Confusion Matrix for Node2Vec Link Prediction')\n",
        "plt.xlabel('Predicted')\n",
        "plt.ylabel('Actual')\n",
        "plt.show()\n",
        "\n",
        "# Step 7: Print classification report for evaluation metrics\n",
        "print(classification_report(y_true, y_pred, target_names=[\"Missing Link\", \"Existing Link\"]))\n"
      ],
      "metadata": {
        "colab": {
          "base_uri": "https://localhost:8080/",
          "height": 720
        },
        "id": "YSGUrop12jca",
        "outputId": "39c06bb9-f6a7-4aa2-8c25-2df879bfbd0f"
      },
      "execution_count": null,
      "outputs": [
        {
          "output_type": "display_data",
          "data": {
            "text/plain": [
              "<Figure size 600x600 with 2 Axes>"
            ],
            "image/png": "[encoded data removed]"
          },
          "metadata": {}
        },
        {
          "output_type": "stream",
          "name": "stdout",
          "text": [
            "               precision    recall  f1-score   support\n",
            "\n",
            " Missing Link       0.67      0.40      0.50         5\n",
            "Existing Link       0.57      0.80      0.67         5\n",
            "\n",
            "     accuracy                           0.60        10\n",
            "    macro avg       0.62      0.60      0.58        10\n",
            " weighted avg       0.62      0.60      0.58        10\n",
            "\n"
          ]
        }
      ]
    },
    {
      "cell_type": "code",
      "source": [
        "import pandas as pd\n",
        "from sklearn.decomposition import NMF\n",
        "from sklearn.model_selection import train_test_split\n",
        "\n",
        "# Pivot the training data to create an interaction matrix\n",
        "interaction_matrix_train = X_train.pivot_table(index='VISSP_CODE', columns='PLTSP_CODE', aggfunc='size', fill_value=0)\n",
        "\n",
        "# Ensure no negative values are present (required for NMF)\n",
        "interaction_matrix_train = interaction_matrix_train.clip(lower=0)\n",
        "\n",
        "# Print the shape of the interaction matrix\n",
        "print(interaction_matrix_train.shape)"
      ],
      "metadata": {
        "colab": {
          "base_uri": "https://localhost:8080/"
        },
        "id": "b9R-5QZX1xHA",
        "outputId": "eb120e1b-2c00-4243-ceee-3f1bc0fbab0b"
      },
      "execution_count": null,
      "outputs": [
        {
          "output_type": "stream",
          "name": "stdout",
          "text": [
            "(10, 12)\n"
          ]
        }
      ]
    },
    {
      "cell_type": "code",
      "source": [
        "# Apply NMF\n",
        "nmf_model = NMF(n_components=10, init='random', random_state=42)\n",
        "\n",
        "# Decompose the interaction matrix\n",
        "W = nmf_model.fit_transform(interaction_matrix_train)  # Latent factors for VISSP_CODE\n",
        "H = nmf_model.components_  # Latent factors for PLTSP_CODE\n",
        "\n",
        "# Reconstruct the interaction matrix using the latent factors\n",
        "reconstructed_matrix = W.dot(H)\n",
        "reconstructed_matrix_df = pd.DataFrame(reconstructed_matrix, index=interaction_matrix_train.index, columns=interaction_matrix_train.columns)\n",
        "\n",
        "# Print the reconstructed matrix\n",
        "print(reconstructed_matrix_df.head())"
      ],
      "metadata": {
        "colab": {
          "base_uri": "https://localhost:8080/"
        },
        "id": "dugqNgE71zDq",
        "outputId": "f9ee0cad-70a5-4ea4-c3bd-718b7d4334be"
      },
      "execution_count": null,
      "outputs": [
        {
          "output_type": "stream",
          "name": "stdout",
          "text": [
            "PLTSP_CODE      ANAPMARG  BARBORTH  CHAMANGU  CIRSCALL      ERIGFOLI  \\\n",
            "VISSP_CODE                                                             \n",
            "CHRYFASC    0.000000e+00       0.0       0.0  1.999990  0.000000e+00   \n",
            "MEGAPERI    2.848385e-16       0.0       0.0  0.000000  2.870711e-16   \n",
            "MELIRIVA    0.000000e+00       0.0       0.0  0.999995  0.000000e+00   \n",
            "MIRISPX1    1.081645e-14       0.0       0.0  0.000000  1.081292e-14   \n",
            "OCHLSYLV    1.000000e+00       0.0       0.0  0.000000  1.000000e+00   \n",
            "\n",
            "PLTSP_CODE      GILICAPI  HERALANA      HYPEPERF      ORTHIMBR      PHACHAST  \\\n",
            "VISSP_CODE                                                                     \n",
            "CHRYFASC    0.000000e+00  0.004051  0.000000e+00  0.000000e+00  0.000000e+00   \n",
            "MEGAPERI    2.833808e-16  0.000000  1.000000e+00  2.836102e-16  1.525181e-17   \n",
            "MELIRIVA    0.000000e+00  0.002025  0.000000e+00  0.000000e+00  0.000000e+00   \n",
            "MIRISPX1    1.073431e-14  0.000000  3.133865e-17  1.074296e-14  5.554477e-16   \n",
            "OCHLSYLV    1.000000e+00  0.000000  1.000000e+00  1.000000e+00  1.000000e+00   \n",
            "\n",
            "PLTSP_CODE  PLATDILA      SOLICANA  \n",
            "VISSP_CODE                          \n",
            "CHRYFASC         0.0  0.000000e+00  \n",
            "MEGAPERI         0.0  4.649191e-18  \n",
            "MELIRIVA         0.0  0.000000e+00  \n",
            "MIRISPX1         0.0  1.000000e+00  \n",
            "OCHLSYLV         0.0  1.000000e+00  \n"
          ]
        }
      ]
    },
    {
      "cell_type": "code",
      "source": [
        "def predict_missing_links_nmf(original_matrix, reconstructed_matrix, top_n=5):\n",
        "    # Find missing links (where original matrix has 0 values)\n",
        "    missing_links = (original_matrix == 0).astype(int)\n",
        "\n",
        "    # Multiply by the reconstructed matrix to get scores for missing links\n",
        "    predicted_scores = missing_links * reconstructed_matrix\n",
        "\n",
        "    # Sort the predicted links by score\n",
        "    predicted_links = predicted_scores.stack().sort_values(ascending=False).head(top_n)\n",
        "\n",
        "    return predicted_links\n",
        "\n",
        "# Predict missing links using NMF\n",
        "predicted_missing_links = predict_missing_links_nmf(interaction_matrix_train, reconstructed_matrix_df)\n",
        "print(predicted_missing_links)"
      ],
      "metadata": {
        "colab": {
          "base_uri": "https://localhost:8080/"
        },
        "id": "cnMmm6_M1pX-",
        "outputId": "29781efa-91ca-40ba-ea9f-579f81ded8c8"
      },
      "execution_count": null,
      "outputs": [
        {
          "output_type": "stream",
          "name": "stdout",
          "text": [
            "VISSP_CODE  PLTSP_CODE\n",
            "PLATRUFI    CIRSCALL      5.063346e-03\n",
            "CHRYFASC    HERALANA      4.050677e-03\n",
            "MELIRIVA    HERALANA      2.025339e-03\n",
            "MIRISPX1    ANAPMARG      1.081645e-14\n",
            "            ERIGFOLI      1.081292e-14\n",
            "dtype: float64\n"
          ]
        }
      ]
    },
    {
      "cell_type": "code",
      "source": [
        "# Accuracy of NMF ( - Non-Negative Matrix Factorization )\n",
        "\n",
        "import numpy as np\n",
        "import pandas as pd\n",
        "from sklearn.metrics import precision_score, recall_score, f1_score, accuracy_score\n",
        "from sklearn.decomposition import NMF\n",
        "from sklearn.model_selection import train_test_split, cross_val_score, KFold\n",
        "from sklearn.preprocessing import MinMaxScaler\n",
        "\n",
        "# Scaling data for NMF\n",
        "scaler = MinMaxScaler()\n",
        "interaction_matrix_scaled = scaler.fit_transform(interaction_matrix_train)\n",
        "\n",
        "# Defining the NMF model with regularization and tune the number of components (latent factors)\n",
        "nmf_model = NMF(n_components=20, init='random', random_state=42,  l1_ratio=0.5)\n",
        "# Fit the model on the scaled training data\n",
        "nmf_model.fit(interaction_matrix_scaled)\n",
        "\n",
        "# Transformation of the original interaction matrix to low-dimensional representations\n",
        "W = nmf_model.transform(interaction_matrix_scaled)\n",
        "H = nmf_model.components_\n",
        "\n",
        "# Reconstruction of the predicted interaction matrix\n",
        "interaction_matrix_pred = np.dot(W, H)\n",
        "\n",
        "# cross-validation to evaluate model performance\n",
        "kf = KFold(n_splits=5, shuffle=True, random_state=42)\n",
        "\n",
        "precision_scores = []\n",
        "recall_scores = []\n",
        "f1_scores = []\n",
        "accuracy_scores = []\n",
        "\n",
        "# Binarizing the original and predicted matrices for evaluation\n",
        "interaction_matrix_binary = interaction_matrix_train.map(lambda x: 1 if x > 0 else 0)\n",
        "interaction_matrix_pred_binary = pd.DataFrame(np.where(interaction_matrix_pred > 0.5, 1, 0))\n",
        "\n",
        "for train_idx, test_idx in kf.split(interaction_matrix_binary):\n",
        "    # Spliting into train and test folds\n",
        "    y_true = interaction_matrix_binary.iloc[test_idx].values.flatten()\n",
        "    y_pred = interaction_matrix_pred_binary.iloc[test_idx].values.flatten()\n",
        "\n",
        "    # Calculation of precision, recall, F1, and accuracy\n",
        "    precision_scores.append(precision_score(y_true, y_pred, zero_division=0))\n",
        "    recall_scores.append(recall_score(y_true, y_pred, zero_division=0))\n",
        "    f1_scores.append(f1_score(y_true, y_pred, zero_division=0))\n",
        "    accuracy_scores.append(accuracy_score(y_true, y_pred))\n",
        "\n",
        "# the final averaged performance metrics\n",
        "print(f\"Precision: {np.mean(precision_scores):.4f}\")\n",
        "print(f\"Recall: {np.mean(recall_scores):.4f}\")\n",
        "print(f\"F1 Score: {np.mean(f1_scores):.4f}\")\n",
        "print(f\"Accuracy: {np.mean(accuracy_scores):.4f}\")\n"
      ],
      "metadata": {
        "colab": {
          "base_uri": "https://localhost:8080/"
        },
        "id": "dxsmVRtYPYKP",
        "outputId": "2ed8e3f8-4f31-4efb-ca26-57ce752598d3"
      },
      "execution_count": null,
      "outputs": [
        {
          "output_type": "stream",
          "name": "stdout",
          "text": [
            "Precision: 1.0000\n",
            "Recall: 0.8750\n",
            "F1 Score: 0.9200\n",
            "Accuracy: 0.9833\n"
          ]
        }
      ]
    },
    {
      "cell_type": "code",
      "source": [
        "def predict_missing_links_for_vissp(vissp_code, interaction_matrix, reconstructed_matrix):\n",
        "\n",
        "  if vissp_code not in interaction_matrix.index:\n",
        "    return []  # VISSP_CODE not found in the matrix\n",
        "\n",
        "  # PLTSP_CODE links that are missing in the original matrix for the given VISSP_CODE\n",
        "  missing_links = (interaction_matrix.loc[vissp_code] == 0)\n",
        "\n",
        "  # predicted scores for the missing links from the reconstructed matrix\n",
        "  predicted_scores = missing_links * reconstructed_matrix.loc[vissp_code]\n",
        "\n",
        "  # Sorting the predicted links by score in descending order\n",
        "  predicted_links = predicted_scores.sort_values(ascending=False)\n",
        "\n",
        "  return predicted_links.index.tolist()\n",
        "\n",
        "\n",
        "vissp_code_input = input(\"Enter VISSP_CODE: \")\n",
        "\n",
        "predicted_pltsp_codes = predict_missing_links_for_vissp(vissp_code_input, interaction_matrix_train, reconstructed_matrix_df)\n",
        "\n",
        "# Print the predicted missing links\n",
        "if predicted_pltsp_codes:\n",
        "  print(f\"Predicted missing PLTSP_CODE links for VISSP_CODE {vissp_code_input}:\")\n",
        "  for pltsp_code in predicted_pltsp_codes:\n",
        "    print(pltsp_code)\n",
        "else:\n",
        "  print(f\"No missing links predicted for VISSP_CODE {vissp_code_input}.\")\n"
      ],
      "metadata": {
        "colab": {
          "base_uri": "https://localhost:8080/"
        },
        "id": "UV5TfYGPsVr8",
        "outputId": "d7f4af81-b4d2-4bbe-8c8b-2fcdc73b2d41"
      },
      "execution_count": null,
      "outputs": [
        {
          "output_type": "stream",
          "name": "stdout",
          "text": [
            "Enter VISSP_CODE: CHRYFASC\n",
            "Predicted missing PLTSP_CODE links for VISSP_CODE CHRYFASC:\n",
            "HERALANA\n",
            "ANAPMARG\n",
            "BARBORTH\n",
            "CHAMANGU\n",
            "CIRSCALL\n",
            "ERIGFOLI\n",
            "GILICAPI\n",
            "HYPEPERF\n",
            "ORTHIMBR\n",
            "PHACHAST\n",
            "PLATDILA\n",
            "SOLICANA\n"
          ]
        }
      ]
    },
    {
      "cell_type": "code",
      "source": [
        "!pip install pgmpy"
      ],
      "metadata": {
        "colab": {
          "base_uri": "https://localhost:8080/"
        },
        "id": "wOX140DrrkWo",
        "outputId": "11a7da88-a67c-450d-9f00-504083544c54"
      },
      "execution_count": null,
      "outputs": [
        {
          "output_type": "stream",
          "name": "stdout",
          "text": [
            "Collecting pgmpy\n",
            "  Downloading pgmpy-0.1.26-py3-none-any.whl.metadata (9.1 kB)\n",
            "Requirement already satisfied: networkx in /usr/local/lib/python3.10/dist-packages (from pgmpy) (3.3)\n",
            "Requirement already satisfied: numpy in /usr/local/lib/python3.10/dist-packages (from pgmpy) (1.26.4)\n",
            "Requirement already satisfied: scipy in /usr/local/lib/python3.10/dist-packages (from pgmpy) (1.13.1)\n",
            "Requirement already satisfied: scikit-learn in /usr/local/lib/python3.10/dist-packages (from pgmpy) (1.3.2)\n",
            "Requirement already satisfied: pandas in /usr/local/lib/python3.10/dist-packages (from pgmpy) (2.1.4)\n",
            "Requirement already satisfied: pyparsing in /usr/local/lib/python3.10/dist-packages (from pgmpy) (3.1.4)\n",
            "Requirement already satisfied: torch in /usr/local/lib/python3.10/dist-packages (from pgmpy) (2.4.0+cu121)\n",
            "Requirement already satisfied: statsmodels in /usr/local/lib/python3.10/dist-packages (from pgmpy) (0.14.2)\n",
            "Requirement already satisfied: tqdm in /usr/local/lib/python3.10/dist-packages (from pgmpy) (4.66.5)\n",
            "Requirement already satisfied: joblib in /usr/local/lib/python3.10/dist-packages (from pgmpy) (1.4.2)\n",
            "Requirement already satisfied: opt-einsum in /usr/local/lib/python3.10/dist-packages (from pgmpy) (3.3.0)\n",
            "Requirement already satisfied: xgboost in /usr/local/lib/python3.10/dist-packages (from pgmpy) (2.1.1)\n",
            "Requirement already satisfied: google-generativeai in /usr/local/lib/python3.10/dist-packages (from pgmpy) (0.7.2)\n",
            "Requirement already satisfied: google-ai-generativelanguage==0.6.6 in /usr/local/lib/python3.10/dist-packages (from google-generativeai->pgmpy) (0.6.6)\n",
            "Requirement already satisfied: google-api-core in /usr/local/lib/python3.10/dist-packages (from google-generativeai->pgmpy) (2.19.2)\n",
            "Requirement already satisfied: google-api-python-client in /usr/local/lib/python3.10/dist-packages (from google-generativeai->pgmpy) (2.137.0)\n",
            "Requirement already satisfied: google-auth>=2.15.0 in /usr/local/lib/python3.10/dist-packages (from google-generativeai->pgmpy) (2.27.0)\n",
            "Requirement already satisfied: protobuf in /usr/local/lib/python3.10/dist-packages (from google-generativeai->pgmpy) (3.20.3)\n",
            "Requirement already satisfied: pydantic in /usr/local/lib/python3.10/dist-packages (from google-generativeai->pgmpy) (2.9.1)\n",
            "Requirement already satisfied: typing-extensions in /usr/local/lib/python3.10/dist-packages (from google-generativeai->pgmpy) (4.12.2)\n",
            "Requirement already satisfied: proto-plus<2.0.0dev,>=1.22.3 in /usr/local/lib/python3.10/dist-packages (from google-ai-generativelanguage==0.6.6->google-generativeai->pgmpy) (1.24.0)\n",
            "Requirement already satisfied: python-dateutil>=2.8.2 in /usr/local/lib/python3.10/dist-packages (from pandas->pgmpy) (2.8.2)\n",
            "Requirement already satisfied: pytz>=2020.1 in /usr/local/lib/python3.10/dist-packages (from pandas->pgmpy) (2024.2)\n",
            "Requirement already satisfied: tzdata>=2022.1 in /usr/local/lib/python3.10/dist-packages (from pandas->pgmpy) (2024.1)\n",
            "Requirement already satisfied: threadpoolctl>=2.0.0 in /usr/local/lib/python3.10/dist-packages (from scikit-learn->pgmpy) (3.5.0)\n",
            "Requirement already satisfied: patsy>=0.5.6 in /usr/local/lib/python3.10/dist-packages (from statsmodels->pgmpy) (0.5.6)\n",
            "Requirement already satisfied: packaging>=21.3 in /usr/local/lib/python3.10/dist-packages (from statsmodels->pgmpy) (24.1)\n",
            "Requirement already satisfied: filelock in /usr/local/lib/python3.10/dist-packages (from torch->pgmpy) (3.16.0)\n",
            "Requirement already satisfied: sympy in /usr/local/lib/python3.10/dist-packages (from torch->pgmpy) (1.13.2)\n",
            "Requirement already satisfied: jinja2 in /usr/local/lib/python3.10/dist-packages (from torch->pgmpy) (3.1.4)\n",
            "Requirement already satisfied: fsspec in /usr/local/lib/python3.10/dist-packages (from torch->pgmpy) (2024.6.1)\n",
            "Requirement already satisfied: nvidia-nccl-cu12 in /usr/local/lib/python3.10/dist-packages (from xgboost->pgmpy) (2.23.4)\n",
            "Requirement already satisfied: googleapis-common-protos<2.0.dev0,>=1.56.2 in /usr/local/lib/python3.10/dist-packages (from google-api-core->google-generativeai->pgmpy) (1.65.0)\n",
            "Requirement already satisfied: requests<3.0.0.dev0,>=2.18.0 in /usr/local/lib/python3.10/dist-packages (from google-api-core->google-generativeai->pgmpy) (2.32.3)\n",
            "Requirement already satisfied: cachetools<6.0,>=2.0.0 in /usr/local/lib/python3.10/dist-packages (from google-auth>=2.15.0->google-generativeai->pgmpy) (5.5.0)\n",
            "Requirement already satisfied: pyasn1-modules>=0.2.1 in /usr/local/lib/python3.10/dist-packages (from google-auth>=2.15.0->google-generativeai->pgmpy) (0.4.1)\n",
            "Requirement already satisfied: rsa<5,>=3.1.4 in /usr/local/lib/python3.10/dist-packages (from google-auth>=2.15.0->google-generativeai->pgmpy) (4.9)\n",
            "Requirement already satisfied: six in /usr/local/lib/python3.10/dist-packages (from patsy>=0.5.6->statsmodels->pgmpy) (1.16.0)\n",
            "Requirement already satisfied: httplib2<1.dev0,>=0.19.0 in /usr/local/lib/python3.10/dist-packages (from google-api-python-client->google-generativeai->pgmpy) (0.22.0)\n",
            "Requirement already satisfied: google-auth-httplib2<1.0.0,>=0.2.0 in /usr/local/lib/python3.10/dist-packages (from google-api-python-client->google-generativeai->pgmpy) (0.2.0)\n",
            "Requirement already satisfied: uritemplate<5,>=3.0.1 in /usr/local/lib/python3.10/dist-packages (from google-api-python-client->google-generativeai->pgmpy) (4.1.1)\n",
            "Requirement already satisfied: MarkupSafe>=2.0 in /usr/local/lib/python3.10/dist-packages (from jinja2->torch->pgmpy) (2.1.5)\n",
            "Requirement already satisfied: annotated-types>=0.6.0 in /usr/local/lib/python3.10/dist-packages (from pydantic->google-generativeai->pgmpy) (0.7.0)\n",
            "Requirement already satisfied: pydantic-core==2.23.3 in /usr/local/lib/python3.10/dist-packages (from pydantic->google-generativeai->pgmpy) (2.23.3)\n",
            "Requirement already satisfied: mpmath<1.4,>=1.1.0 in /usr/local/lib/python3.10/dist-packages (from sympy->torch->pgmpy) (1.3.0)\n",
            "Requirement already satisfied: grpcio<2.0dev,>=1.33.2 in /usr/local/lib/python3.10/dist-packages (from google-api-core[grpc]!=2.0.*,!=2.1.*,!=2.10.*,!=2.2.*,!=2.3.*,!=2.4.*,!=2.5.*,!=2.6.*,!=2.7.*,!=2.8.*,!=2.9.*,<3.0.0dev,>=1.34.1->google-ai-generativelanguage==0.6.6->google-generativeai->pgmpy) (1.64.1)\n",
            "Requirement already satisfied: grpcio-status<2.0.dev0,>=1.33.2 in /usr/local/lib/python3.10/dist-packages (from google-api-core[grpc]!=2.0.*,!=2.1.*,!=2.10.*,!=2.2.*,!=2.3.*,!=2.4.*,!=2.5.*,!=2.6.*,!=2.7.*,!=2.8.*,!=2.9.*,<3.0.0dev,>=1.34.1->google-ai-generativelanguage==0.6.6->google-generativeai->pgmpy) (1.48.2)\n",
            "Requirement already satisfied: pyasn1<0.7.0,>=0.4.6 in /usr/local/lib/python3.10/dist-packages (from pyasn1-modules>=0.2.1->google-auth>=2.15.0->google-generativeai->pgmpy) (0.6.1)\n",
            "Requirement already satisfied: charset-normalizer<4,>=2 in /usr/local/lib/python3.10/dist-packages (from requests<3.0.0.dev0,>=2.18.0->google-api-core->google-generativeai->pgmpy) (3.3.2)\n",
            "Requirement already satisfied: idna<4,>=2.5 in /usr/local/lib/python3.10/dist-packages (from requests<3.0.0.dev0,>=2.18.0->google-api-core->google-generativeai->pgmpy) (3.8)\n",
            "Requirement already satisfied: urllib3<3,>=1.21.1 in /usr/local/lib/python3.10/dist-packages (from requests<3.0.0.dev0,>=2.18.0->google-api-core->google-generativeai->pgmpy) (2.0.7)\n",
            "Requirement already satisfied: certifi>=2017.4.17 in /usr/local/lib/python3.10/dist-packages (from requests<3.0.0.dev0,>=2.18.0->google-api-core->google-generativeai->pgmpy) (2024.8.30)\n",
            "Downloading pgmpy-0.1.26-py3-none-any.whl (2.0 MB)\n",
            "\u001b[2K   \u001b[90m━━━━━━━━━━━━━━━━━━━━━━━━━━━━━━━━━━━━━━━━\u001b[0m \u001b[32m2.0/2.0 MB\u001b[0m \u001b[31m22.5 MB/s\u001b[0m eta \u001b[36m0:00:00\u001b[0m\n",
            "\u001b[?25hInstalling collected packages: pgmpy\n",
            "Successfully installed pgmpy-0.1.26\n"
          ]
        }
      ]
    },
    {
      "cell_type": "code",
      "source": [
        "# bayesian\n",
        "import pandas as pd\n",
        "from pgmpy.models import BayesianNetwork\n",
        "from pgmpy.estimators import MaximumLikelihoodEstimator\n",
        "from pgmpy.inference import VariableElimination\n",
        "\n",
        "# Preprocessing: Select relevant columns and handle missing values\n",
        "df_filtered = data[['VISSP_CODE', 'PLTSP_CODE']].dropna(subset=['VISSP_CODE'])\n",
        "\n",
        "# Replace missing values in PLTSP_CODE with NaN (if not already)\n",
        "df_filtered['PLTSP_CODE'] = df_filtered['PLTSP_CODE'].fillna(value=pd.NA)\n",
        "\n",
        "# Bayesian Network model creation\n",
        "model = BayesianNetwork([('VISSP_CODE', 'PLTSP_CODE')])\n",
        "\n",
        "# Fit the model using Maximum Likelihood Estimation\n",
        "model.fit(df_filtered, estimator=MaximumLikelihoodEstimator)\n",
        "\n",
        "# Inference for prediction\n",
        "inference = VariableElimination(model)\n",
        "\n",
        "# Function to predict PLTSP_CODE based on VISSP_CODE using Bayesian Network\n",
        "def predict_pltsp_code(vissp_code):\n",
        "\n",
        "    try:\n",
        "        # Make prediction using Bayesian Network inference\n",
        "        prediction = inference.map_query(variables=['PLTSP_CODE'], evidence={'VISSP_CODE': vissp_code})\n",
        "        return f\"Predicted PLTSP_CODE for VISSP_CODE '{vissp_code}': {prediction['PLTSP_CODE']}\"\n",
        "    except Exception as e:\n",
        "        return f\"Error: {str(e)}\"\n",
        "\n",
        "# Example of taking user input\n",
        "user_input = input(\"Enter VISSP_CODE: \")\n",
        "print(predict_pltsp_code(user_input))\n"
      ],
      "metadata": {
        "colab": {
          "base_uri": "https://localhost:8080/",
          "height": 116,
          "referenced_widgets": [
            "a63bb420e4e2411daed5100a12027f66",
            "957e18159a9e4a21a78afff8e7a02137",
            "388da49710dc4e46bc2bdb596e888ff3",
            "3f0a540e6ef14fe083614afa10a22d44",
            "2acba81d594c40a298cb8b5e7db7a90c",
            "a5f4d83f527c49a392b3d732ee4eb51b",
            "8212c67bfd454d358d18f69c9d4048c2",
            "5af64c152e734bdeace3da7eccbb357f",
            "20c19d379338419d96ab9b82d41f71eb",
            "6cd8ca6d186548ecbe26059fb6aebb88",
            "4f95f6b537ae40819ac4c77be66fdb59",
            "e664d86a111f4674a2f66091d23e4b24",
            "6e38a504e8ec488cbde4a41114ec0488",
            "44135a120f384a46a484646bff07e581",
            "3ebb35f208b34f6096c1ce7a9ac2e606",
            "7a396a9e0a29453a80d1dc1b136ba0f9",
            "6e103ea1ff5e49f7bbc26d0c9ea65635",
            "01666a6014ec4477bb4a2b4e5c65021b",
            "fc9802859e0441fdbddd17ff43d30604",
            "35694119d15c49a18ac8d07058de5d56",
            "d34a0092219542438e91c215c45dc341",
            "78c33d9b1ffd45dd8caf6d3a8f247370"
          ]
        },
        "id": "UnxcaCn8rgYB",
        "outputId": "2ef7af10-1d53-41ba-fdff-b523d5db1960"
      },
      "execution_count": null,
      "outputs": [
        {
          "name": "stdout",
          "output_type": "stream",
          "text": [
            "Enter VISSP_CODE: CHRYFASC\n"
          ]
        },
        {
          "output_type": "display_data",
          "data": {
            "text/plain": [
              "0it [00:00, ?it/s]"
            ],
            "application/vnd.jupyter.widget-view+json": {
              "version_major": 2,
              "version_minor": 0,
              "model_id": "a63bb420e4e2411daed5100a12027f66"
            }
          },
          "metadata": {}
        },
        {
          "output_type": "display_data",
          "data": {
            "text/plain": [
              "0it [00:00, ?it/s]"
            ],
            "application/vnd.jupyter.widget-view+json": {
              "version_major": 2,
              "version_minor": 0,
              "model_id": "e664d86a111f4674a2f66091d23e4b24"
            }
          },
          "metadata": {}
        },
        {
          "output_type": "stream",
          "name": "stdout",
          "text": [
            "Predicted PLTSP_CODE for VISSP_CODE 'CHRYFASC': CIRSCALL\n"
          ]
        }
      ]
    },
    {
      "cell_type": "code",
      "source": [
        "# Heat Map\n",
        "import pandas as pd\n",
        "import seaborn as sns\n",
        "import matplotlib.pyplot as plt\n",
        "\n",
        "# Step 1: Prepare the pivot table for the heatmap\n",
        "heatmap_data = X_train.pivot_table(index='VISSP_CODE', columns='PLTSP_CODE', aggfunc='size', fill_value=0)\n",
        "\n",
        "# Step 2: Create the heatmap\n",
        "plt.figure(figsize=(12, 8))\n",
        "sns.heatmap(heatmap_data, cmap=\"YlGnBu\", annot=True, fmt=\"d\", cbar=True)\n",
        "\n",
        "# Step 3: Add labels and title\n",
        "plt.title('Heatmap of Interactions between VISSP_CODE and PLTSP_CODE')\n",
        "plt.xlabel('PLTSP_CODE')\n",
        "plt.ylabel('VISSP_CODE')\n",
        "\n",
        "# Step 4: Display the heatmap\n",
        "plt.show()\n"
      ],
      "metadata": {
        "colab": {
          "base_uri": "https://localhost:8080/",
          "height": 786
        },
        "id": "e5pGAk0cIT_S",
        "outputId": "d55687e8-b1ee-43f1-ea17-271199aa02f1"
      },
      "execution_count": null,
      "outputs": [
        {
          "output_type": "display_data",
          "data": {
            "text/plain": [
              "<Figure size 1200x800 with 2 Axes>"
            ],
            "image/png": "[encoded data removed]"
          },
          "metadata": {}
        }
      ]
    }
  ],
  "metadata": {
    "accelerator": "GPU",
    "colab": {
      "gpuType": "T4",
      "provenance": []
    },
    "kernelspec": {
      "display_name": "Python 3",
      "name": "python3"
    },
    "language_info": {
      "name": "python"
    },
    "widgets": {
      "application/vnd.jupyter.widget-state+json": {
        "c27eb912ba8549f0bccaa24f3ca6cbfe": {
          "model_module": "@jupyter-widgets/controls",
          "model_name": "HBoxModel",
          "model_module_version": "1.5.0",
          "state": {
            "_dom_classes": [],
            "_model_module": "@jupyter-widgets/controls",
            "_model_module_version": "1.5.0",
            "_model_name": "HBoxModel",
            "_view_count": null,
            "_view_module": "@jupyter-widgets/controls",
            "_view_module_version": "1.5.0",
            "_view_name": "HBoxView",
            "box_style": "",
            "children": [
              "IPY_MODEL_cf4a4768398f45969afc8b870231adc9",
              "IPY_MODEL_84e9bc900e254d6db69ee1d87b0b6737",
              "IPY_MODEL_02b888bddbd947cba9060da798650c83"
            ],
            "layout": "IPY_MODEL_9442d1945a3445e3851d9c8c7d1ff108"
          }
        },
        "cf4a4768398f45969afc8b870231adc9": {
          "model_module": "@jupyter-widgets/controls",
          "model_name": "HTMLModel",
          "model_module_version": "1.5.0",
          "state": {
            "_dom_classes": [],
            "_model_module": "@jupyter-widgets/controls",
            "_model_module_version": "1.5.0",
            "_model_name": "HTMLModel",
            "_view_count": null,
            "_view_module": "@jupyter-widgets/controls",
            "_view_module_version": "1.5.0",
            "_view_name": "HTMLView",
            "description": "",
            "description_tooltip": null,
            "layout": "IPY_MODEL_896721bde270471494bb9135b9c291de",
            "placeholder": "​",
            "style": "IPY_MODEL_482cb85f3965401ab45aac4c3c849dc1",
            "value": "Computing transition probabilities: 100%"
          }
        },
        "84e9bc900e254d6db69ee1d87b0b6737": {
          "model_module": "@jupyter-widgets/controls",
          "model_name": "FloatProgressModel",
          "model_module_version": "1.5.0",
          "state": {
            "_dom_classes": [],
            "_model_module": "@jupyter-widgets/controls",
            "_model_module_version": "1.5.0",
            "_model_name": "FloatProgressModel",
            "_view_count": null,
            "_view_module": "@jupyter-widgets/controls",
            "_view_module_version": "1.5.0",
            "_view_name": "ProgressView",
            "bar_style": "success",
            "description": "",
            "description_tooltip": null,
            "layout": "IPY_MODEL_767d6295cb2346439cc55bda77c6f47f",
            "max": 22,
            "min": 0,
            "orientation": "horizontal",
            "style": "IPY_MODEL_241d1fa6f4be49428375b545ea9626e9",
            "value": 22
          }
        },
        "02b888bddbd947cba9060da798650c83": {
          "model_module": "@jupyter-widgets/controls",
          "model_name": "HTMLModel",
          "model_module_version": "1.5.0",
          "state": {
            "_dom_classes": [],
            "_model_module": "@jupyter-widgets/controls",
            "_model_module_version": "1.5.0",
            "_model_name": "HTMLModel",
            "_view_count": null,
            "_view_module": "@jupyter-widgets/controls",
            "_view_module_version": "1.5.0",
            "_view_name": "HTMLView",
            "description": "",
            "description_tooltip": null,
            "layout": "IPY_MODEL_2d96988774be41be8c0df4a46e530554",
            "placeholder": "​",
            "style": "IPY_MODEL_e7a800102c1944c1b864e0ac0789cf66",
            "value": " 22/22 [00:00&lt;00:00, 1101.21it/s]"
          }
        },
        "9442d1945a3445e3851d9c8c7d1ff108": {
          "model_module": "@jupyter-widgets/base",
          "model_name": "LayoutModel",
          "model_module_version": "1.2.0",
          "state": {
            "_model_module": "@jupyter-widgets/base",
            "_model_module_version": "1.2.0",
            "_model_name": "LayoutModel",
            "_view_count": null,
            "_view_module": "@jupyter-widgets/base",
            "_view_module_version": "1.2.0",
            "_view_name": "LayoutView",
            "align_content": null,
            "align_items": null,
            "align_self": null,
            "border": null,
            "bottom": null,
            "display": null,
            "flex": null,
            "flex_flow": null,
            "grid_area": null,
            "grid_auto_columns": null,
            "grid_auto_flow": null,
            "grid_auto_rows": null,
            "grid_column": null,
            "grid_gap": null,
            "grid_row": null,
            "grid_template_areas": null,
            "grid_template_columns": null,
            "grid_template_rows": null,
            "height": null,
            "justify_content": null,
            "justify_items": null,
            "left": null,
            "margin": null,
            "max_height": null,
            "max_width": null,
            "min_height": null,
            "min_width": null,
            "object_fit": null,
            "object_position": null,
            "order": null,
            "overflow": null,
            "overflow_x": null,
            "overflow_y": null,
            "padding": null,
            "right": null,
            "top": null,
            "visibility": null,
            "width": null
          }
        },
        "896721bde270471494bb9135b9c291de": {
          "model_module": "@jupyter-widgets/base",
          "model_name": "LayoutModel",
          "model_module_version": "1.2.0",
          "state": {
            "_model_module": "@jupyter-widgets/base",
            "_model_module_version": "1.2.0",
            "_model_name": "LayoutModel",
            "_view_count": null,
            "_view_module": "@jupyter-widgets/base",
            "_view_module_version": "1.2.0",
            "_view_name": "LayoutView",
            "align_content": null,
            "align_items": null,
            "align_self": null,
            "border": null,
            "bottom": null,
            "display": null,
            "flex": null,
            "flex_flow": null,
            "grid_area": null,
            "grid_auto_columns": null,
            "grid_auto_flow": null,
            "grid_auto_rows": null,
            "grid_column": null,
            "grid_gap": null,
            "grid_row": null,
            "grid_template_areas": null,
            "grid_template_columns": null,
            "grid_template_rows": null,
            "height": null,
            "justify_content": null,
            "justify_items": null,
            "left": null,
            "margin": null,
            "max_height": null,
            "max_width": null,
            "min_height": null,
            "min_width": null,
            "object_fit": null,
            "object_position": null,
            "order": null,
            "overflow": null,
            "overflow_x": null,
            "overflow_y": null,
            "padding": null,
            "right": null,
            "top": null,
            "visibility": null,
            "width": null
          }
        },
        "482cb85f3965401ab45aac4c3c849dc1": {
          "model_module": "@jupyter-widgets/controls",
          "model_name": "DescriptionStyleModel",
          "model_module_version": "1.5.0",
          "state": {
            "_model_module": "@jupyter-widgets/controls",
            "_model_module_version": "1.5.0",
            "_model_name": "DescriptionStyleModel",
            "_view_count": null,
            "_view_module": "@jupyter-widgets/base",
            "_view_module_version": "1.2.0",
            "_view_name": "StyleView",
            "description_width": ""
          }
        },
        "767d6295cb2346439cc55bda77c6f47f": {
          "model_module": "@jupyter-widgets/base",
          "model_name": "LayoutModel",
          "model_module_version": "1.2.0",
          "state": {
            "_model_module": "@jupyter-widgets/base",
            "_model_module_version": "1.2.0",
            "_model_name": "LayoutModel",
            "_view_count": null,
            "_view_module": "@jupyter-widgets/base",
            "_view_module_version": "1.2.0",
            "_view_name": "LayoutView",
            "align_content": null,
            "align_items": null,
            "align_self": null,
            "border": null,
            "bottom": null,
            "display": null,
            "flex": null,
            "flex_flow": null,
            "grid_area": null,
            "grid_auto_columns": null,
            "grid_auto_flow": null,
            "grid_auto_rows": null,
            "grid_column": null,
            "grid_gap": null,
            "grid_row": null,
            "grid_template_areas": null,
            "grid_template_columns": null,
            "grid_template_rows": null,
            "height": null,
            "justify_content": null,
            "justify_items": null,
            "left": null,
            "margin": null,
            "max_height": null,
            "max_width": null,
            "min_height": null,
            "min_width": null,
            "object_fit": null,
            "object_position": null,
            "order": null,
            "overflow": null,
            "overflow_x": null,
            "overflow_y": null,
            "padding": null,
            "right": null,
            "top": null,
            "visibility": null,
            "width": null
          }
        },
        "241d1fa6f4be49428375b545ea9626e9": {
          "model_module": "@jupyter-widgets/controls",
          "model_name": "ProgressStyleModel",
          "model_module_version": "1.5.0",
          "state": {
            "_model_module": "@jupyter-widgets/controls",
            "_model_module_version": "1.5.0",
            "_model_name": "ProgressStyleModel",
            "_view_count": null,
            "_view_module": "@jupyter-widgets/base",
            "_view_module_version": "1.2.0",
            "_view_name": "StyleView",
            "bar_color": null,
            "description_width": ""
          }
        },
        "2d96988774be41be8c0df4a46e530554": {
          "model_module": "@jupyter-widgets/base",
          "model_name": "LayoutModel",
          "model_module_version": "1.2.0",
          "state": {
            "_model_module": "@jupyter-widgets/base",
            "_model_module_version": "1.2.0",
            "_model_name": "LayoutModel",
            "_view_count": null,
            "_view_module": "@jupyter-widgets/base",
            "_view_module_version": "1.2.0",
            "_view_name": "LayoutView",
            "align_content": null,
            "align_items": null,
            "align_self": null,
            "border": null,
            "bottom": null,
            "display": null,
            "flex": null,
            "flex_flow": null,
            "grid_area": null,
            "grid_auto_columns": null,
            "grid_auto_flow": null,
            "grid_auto_rows": null,
            "grid_column": null,
            "grid_gap": null,
            "grid_row": null,
            "grid_template_areas": null,
            "grid_template_columns": null,
            "grid_template_rows": null,
            "height": null,
            "justify_content": null,
            "justify_items": null,
            "left": null,
            "margin": null,
            "max_height": null,
            "max_width": null,
            "min_height": null,
            "min_width": null,
            "object_fit": null,
            "object_position": null,
            "order": null,
            "overflow": null,
            "overflow_x": null,
            "overflow_y": null,
            "padding": null,
            "right": null,
            "top": null,
            "visibility": null,
            "width": null
          }
        },
        "e7a800102c1944c1b864e0ac0789cf66": {
          "model_module": "@jupyter-widgets/controls",
          "model_name": "DescriptionStyleModel",
          "model_module_version": "1.5.0",
          "state": {
            "_model_module": "@jupyter-widgets/controls",
            "_model_module_version": "1.5.0",
            "_model_name": "DescriptionStyleModel",
            "_view_count": null,
            "_view_module": "@jupyter-widgets/base",
            "_view_module_version": "1.2.0",
            "_view_name": "StyleView",
            "description_width": ""
          }
        },
        "a63bb420e4e2411daed5100a12027f66": {
          "model_module": "@jupyter-widgets/controls",
          "model_name": "HBoxModel",
          "model_module_version": "1.5.0",
          "state": {
            "_dom_classes": [],
            "_model_module": "@jupyter-widgets/controls",
            "_model_module_version": "1.5.0",
            "_model_name": "HBoxModel",
            "_view_count": null,
            "_view_module": "@jupyter-widgets/controls",
            "_view_module_version": "1.5.0",
            "_view_name": "HBoxView",
            "box_style": "",
            "children": [
              "IPY_MODEL_957e18159a9e4a21a78afff8e7a02137",
              "IPY_MODEL_388da49710dc4e46bc2bdb596e888ff3",
              "IPY_MODEL_3f0a540e6ef14fe083614afa10a22d44"
            ],
            "layout": "IPY_MODEL_2acba81d594c40a298cb8b5e7db7a90c"
          }
        },
        "957e18159a9e4a21a78afff8e7a02137": {
          "model_module": "@jupyter-widgets/controls",
          "model_name": "HTMLModel",
          "model_module_version": "1.5.0",
          "state": {
            "_dom_classes": [],
            "_model_module": "@jupyter-widgets/controls",
            "_model_module_version": "1.5.0",
            "_model_name": "HTMLModel",
            "_view_count": null,
            "_view_module": "@jupyter-widgets/controls",
            "_view_module_version": "1.5.0",
            "_view_name": "HTMLView",
            "description": "",
            "description_tooltip": null,
            "layout": "IPY_MODEL_a5f4d83f527c49a392b3d732ee4eb51b",
            "placeholder": "​",
            "style": "IPY_MODEL_8212c67bfd454d358d18f69c9d4048c2",
            "value": "Finding Elimination Order: : "
          }
        },
        "388da49710dc4e46bc2bdb596e888ff3": {
          "model_module": "@jupyter-widgets/controls",
          "model_name": "FloatProgressModel",
          "model_module_version": "1.5.0",
          "state": {
            "_dom_classes": [],
            "_model_module": "@jupyter-widgets/controls",
            "_model_module_version": "1.5.0",
            "_model_name": "FloatProgressModel",
            "_view_count": null,
            "_view_module": "@jupyter-widgets/controls",
            "_view_module_version": "1.5.0",
            "_view_name": "ProgressView",
            "bar_style": "info",
            "description": "",
            "description_tooltip": null,
            "layout": "IPY_MODEL_5af64c152e734bdeace3da7eccbb357f",
            "max": 1,
            "min": 0,
            "orientation": "horizontal",
            "style": "IPY_MODEL_20c19d379338419d96ab9b82d41f71eb",
            "value": 0
          }
        },
        "3f0a540e6ef14fe083614afa10a22d44": {
          "model_module": "@jupyter-widgets/controls",
          "model_name": "HTMLModel",
          "model_module_version": "1.5.0",
          "state": {
            "_dom_classes": [],
            "_model_module": "@jupyter-widgets/controls",
            "_model_module_version": "1.5.0",
            "_model_name": "HTMLModel",
            "_view_count": null,
            "_view_module": "@jupyter-widgets/controls",
            "_view_module_version": "1.5.0",
            "_view_name": "HTMLView",
            "description": "",
            "description_tooltip": null,
            "layout": "IPY_MODEL_6cd8ca6d186548ecbe26059fb6aebb88",
            "placeholder": "​",
            "style": "IPY_MODEL_4f95f6b537ae40819ac4c77be66fdb59",
            "value": " 0/0 [00:00&lt;?, ?it/s]"
          }
        },
        "2acba81d594c40a298cb8b5e7db7a90c": {
          "model_module": "@jupyter-widgets/base",
          "model_name": "LayoutModel",
          "model_module_version": "1.2.0",
          "state": {
            "_model_module": "@jupyter-widgets/base",
            "_model_module_version": "1.2.0",
            "_model_name": "LayoutModel",
            "_view_count": null,
            "_view_module": "@jupyter-widgets/base",
            "_view_module_version": "1.2.0",
            "_view_name": "LayoutView",
            "align_content": null,
            "align_items": null,
            "align_self": null,
            "border": null,
            "bottom": null,
            "display": null,
            "flex": null,
            "flex_flow": null,
            "grid_area": null,
            "grid_auto_columns": null,
            "grid_auto_flow": null,
            "grid_auto_rows": null,
            "grid_column": null,
            "grid_gap": null,
            "grid_row": null,
            "grid_template_areas": null,
            "grid_template_columns": null,
            "grid_template_rows": null,
            "height": null,
            "justify_content": null,
            "justify_items": null,
            "left": null,
            "margin": null,
            "max_height": null,
            "max_width": null,
            "min_height": null,
            "min_width": null,
            "object_fit": null,
            "object_position": null,
            "order": null,
            "overflow": null,
            "overflow_x": null,
            "overflow_y": null,
            "padding": null,
            "right": null,
            "top": null,
            "visibility": null,
            "width": null
          }
        },
        "a5f4d83f527c49a392b3d732ee4eb51b": {
          "model_module": "@jupyter-widgets/base",
          "model_name": "LayoutModel",
          "model_module_version": "1.2.0",
          "state": {
            "_model_module": "@jupyter-widgets/base",
            "_model_module_version": "1.2.0",
            "_model_name": "LayoutModel",
            "_view_count": null,
            "_view_module": "@jupyter-widgets/base",
            "_view_module_version": "1.2.0",
            "_view_name": "LayoutView",
            "align_content": null,
            "align_items": null,
            "align_self": null,
            "border": null,
            "bottom": null,
            "display": null,
            "flex": null,
            "flex_flow": null,
            "grid_area": null,
            "grid_auto_columns": null,
            "grid_auto_flow": null,
            "grid_auto_rows": null,
            "grid_column": null,
            "grid_gap": null,
            "grid_row": null,
            "grid_template_areas": null,
            "grid_template_columns": null,
            "grid_template_rows": null,
            "height": null,
            "justify_content": null,
            "justify_items": null,
            "left": null,
            "margin": null,
            "max_height": null,
            "max_width": null,
            "min_height": null,
            "min_width": null,
            "object_fit": null,
            "object_position": null,
            "order": null,
            "overflow": null,
            "overflow_x": null,
            "overflow_y": null,
            "padding": null,
            "right": null,
            "top": null,
            "visibility": null,
            "width": null
          }
        },
        "8212c67bfd454d358d18f69c9d4048c2": {
          "model_module": "@jupyter-widgets/controls",
          "model_name": "DescriptionStyleModel",
          "model_module_version": "1.5.0",
          "state": {
            "_model_module": "@jupyter-widgets/controls",
            "_model_module_version": "1.5.0",
            "_model_name": "DescriptionStyleModel",
            "_view_count": null,
            "_view_module": "@jupyter-widgets/base",
            "_view_module_version": "1.2.0",
            "_view_name": "StyleView",
            "description_width": ""
          }
        },
        "5af64c152e734bdeace3da7eccbb357f": {
          "model_module": "@jupyter-widgets/base",
          "model_name": "LayoutModel",
          "model_module_version": "1.2.0",
          "state": {
            "_model_module": "@jupyter-widgets/base",
            "_model_module_version": "1.2.0",
            "_model_name": "LayoutModel",
            "_view_count": null,
            "_view_module": "@jupyter-widgets/base",
            "_view_module_version": "1.2.0",
            "_view_name": "LayoutView",
            "align_content": null,
            "align_items": null,
            "align_self": null,
            "border": null,
            "bottom": null,
            "display": null,
            "flex": null,
            "flex_flow": null,
            "grid_area": null,
            "grid_auto_columns": null,
            "grid_auto_flow": null,
            "grid_auto_rows": null,
            "grid_column": null,
            "grid_gap": null,
            "grid_row": null,
            "grid_template_areas": null,
            "grid_template_columns": null,
            "grid_template_rows": null,
            "height": null,
            "justify_content": null,
            "justify_items": null,
            "left": null,
            "margin": null,
            "max_height": null,
            "max_width": null,
            "min_height": null,
            "min_width": null,
            "object_fit": null,
            "object_position": null,
            "order": null,
            "overflow": null,
            "overflow_x": null,
            "overflow_y": null,
            "padding": null,
            "right": null,
            "top": null,
            "visibility": null,
            "width": "20px"
          }
        },
        "20c19d379338419d96ab9b82d41f71eb": {
          "model_module": "@jupyter-widgets/controls",
          "model_name": "ProgressStyleModel",
          "model_module_version": "1.5.0",
          "state": {
            "_model_module": "@jupyter-widgets/controls",
            "_model_module_version": "1.5.0",
            "_model_name": "ProgressStyleModel",
            "_view_count": null,
            "_view_module": "@jupyter-widgets/base",
            "_view_module_version": "1.2.0",
            "_view_name": "StyleView",
            "bar_color": null,
            "description_width": ""
          }
        },
        "6cd8ca6d186548ecbe26059fb6aebb88": {
          "model_module": "@jupyter-widgets/base",
          "model_name": "LayoutModel",
          "model_module_version": "1.2.0",
          "state": {
            "_model_module": "@jupyter-widgets/base",
            "_model_module_version": "1.2.0",
            "_model_name": "LayoutModel",
            "_view_count": null,
            "_view_module": "@jupyter-widgets/base",
            "_view_module_version": "1.2.0",
            "_view_name": "LayoutView",
            "align_content": null,
            "align_items": null,
            "align_self": null,
            "border": null,
            "bottom": null,
            "display": null,
            "flex": null,
            "flex_flow": null,
            "grid_area": null,
            "grid_auto_columns": null,
            "grid_auto_flow": null,
            "grid_auto_rows": null,
            "grid_column": null,
            "grid_gap": null,
            "grid_row": null,
            "grid_template_areas": null,
            "grid_template_columns": null,
            "grid_template_rows": null,
            "height": null,
            "justify_content": null,
            "justify_items": null,
            "left": null,
            "margin": null,
            "max_height": null,
            "max_width": null,
            "min_height": null,
            "min_width": null,
            "object_fit": null,
            "object_position": null,
            "order": null,
            "overflow": null,
            "overflow_x": null,
            "overflow_y": null,
            "padding": null,
            "right": null,
            "top": null,
            "visibility": null,
            "width": null
          }
        },
        "4f95f6b537ae40819ac4c77be66fdb59": {
          "model_module": "@jupyter-widgets/controls",
          "model_name": "DescriptionStyleModel",
          "model_module_version": "1.5.0",
          "state": {
            "_model_module": "@jupyter-widgets/controls",
            "_model_module_version": "1.5.0",
            "_model_name": "DescriptionStyleModel",
            "_view_count": null,
            "_view_module": "@jupyter-widgets/base",
            "_view_module_version": "1.2.0",
            "_view_name": "StyleView",
            "description_width": ""
          }
        },
        "e664d86a111f4674a2f66091d23e4b24": {
          "model_module": "@jupyter-widgets/controls",
          "model_name": "HBoxModel",
          "model_module_version": "1.5.0",
          "state": {
            "_dom_classes": [],
            "_model_module": "@jupyter-widgets/controls",
            "_model_module_version": "1.5.0",
            "_model_name": "HBoxModel",
            "_view_count": null,
            "_view_module": "@jupyter-widgets/controls",
            "_view_module_version": "1.5.0",
            "_view_name": "HBoxView",
            "box_style": "",
            "children": [
              "IPY_MODEL_6e38a504e8ec488cbde4a41114ec0488",
              "IPY_MODEL_44135a120f384a46a484646bff07e581",
              "IPY_MODEL_3ebb35f208b34f6096c1ce7a9ac2e606"
            ],
            "layout": "IPY_MODEL_7a396a9e0a29453a80d1dc1b136ba0f9"
          }
        },
        "6e38a504e8ec488cbde4a41114ec0488": {
          "model_module": "@jupyter-widgets/controls",
          "model_name": "HTMLModel",
          "model_module_version": "1.5.0",
          "state": {
            "_dom_classes": [],
            "_model_module": "@jupyter-widgets/controls",
            "_model_module_version": "1.5.0",
            "_model_name": "HTMLModel",
            "_view_count": null,
            "_view_module": "@jupyter-widgets/controls",
            "_view_module_version": "1.5.0",
            "_view_name": "HTMLView",
            "description": "",
            "description_tooltip": null,
            "layout": "IPY_MODEL_6e103ea1ff5e49f7bbc26d0c9ea65635",
            "placeholder": "​",
            "style": "IPY_MODEL_01666a6014ec4477bb4a2b4e5c65021b",
            "value": ""
          }
        },
        "44135a120f384a46a484646bff07e581": {
          "model_module": "@jupyter-widgets/controls",
          "model_name": "FloatProgressModel",
          "model_module_version": "1.5.0",
          "state": {
            "_dom_classes": [],
            "_model_module": "@jupyter-widgets/controls",
            "_model_module_version": "1.5.0",
            "_model_name": "FloatProgressModel",
            "_view_count": null,
            "_view_module": "@jupyter-widgets/controls",
            "_view_module_version": "1.5.0",
            "_view_name": "ProgressView",
            "bar_style": "success",
            "description": "",
            "description_tooltip": null,
            "layout": "IPY_MODEL_fc9802859e0441fdbddd17ff43d30604",
            "max": 1,
            "min": 0,
            "orientation": "horizontal",
            "style": "IPY_MODEL_35694119d15c49a18ac8d07058de5d56",
            "value": 0
          }
        },
        "3ebb35f208b34f6096c1ce7a9ac2e606": {
          "model_module": "@jupyter-widgets/controls",
          "model_name": "HTMLModel",
          "model_module_version": "1.5.0",
          "state": {
            "_dom_classes": [],
            "_model_module": "@jupyter-widgets/controls",
            "_model_module_version": "1.5.0",
            "_model_name": "HTMLModel",
            "_view_count": null,
            "_view_module": "@jupyter-widgets/controls",
            "_view_module_version": "1.5.0",
            "_view_name": "HTMLView",
            "description": "",
            "description_tooltip": null,
            "layout": "IPY_MODEL_d34a0092219542438e91c215c45dc341",
            "placeholder": "​",
            "style": "IPY_MODEL_78c33d9b1ffd45dd8caf6d3a8f247370",
            "value": " 0/0 [00:00&lt;?, ?it/s]"
          }
        },
        "7a396a9e0a29453a80d1dc1b136ba0f9": {
          "model_module": "@jupyter-widgets/base",
          "model_name": "LayoutModel",
          "model_module_version": "1.2.0",
          "state": {
            "_model_module": "@jupyter-widgets/base",
            "_model_module_version": "1.2.0",
            "_model_name": "LayoutModel",
            "_view_count": null,
            "_view_module": "@jupyter-widgets/base",
            "_view_module_version": "1.2.0",
            "_view_name": "LayoutView",
            "align_content": null,
            "align_items": null,
            "align_self": null,
            "border": null,
            "bottom": null,
            "display": null,
            "flex": null,
            "flex_flow": null,
            "grid_area": null,
            "grid_auto_columns": null,
            "grid_auto_flow": null,
            "grid_auto_rows": null,
            "grid_column": null,
            "grid_gap": null,
            "grid_row": null,
            "grid_template_areas": null,
            "grid_template_columns": null,
            "grid_template_rows": null,
            "height": null,
            "justify_content": null,
            "justify_items": null,
            "left": null,
            "margin": null,
            "max_height": null,
            "max_width": null,
            "min_height": null,
            "min_width": null,
            "object_fit": null,
            "object_position": null,
            "order": null,
            "overflow": null,
            "overflow_x": null,
            "overflow_y": null,
            "padding": null,
            "right": null,
            "top": null,
            "visibility": null,
            "width": null
          }
        },
        "6e103ea1ff5e49f7bbc26d0c9ea65635": {
          "model_module": "@jupyter-widgets/base",
          "model_name": "LayoutModel",
          "model_module_version": "1.2.0",
          "state": {
            "_model_module": "@jupyter-widgets/base",
            "_model_module_version": "1.2.0",
            "_model_name": "LayoutModel",
            "_view_count": null,
            "_view_module": "@jupyter-widgets/base",
            "_view_module_version": "1.2.0",
            "_view_name": "LayoutView",
            "align_content": null,
            "align_items": null,
            "align_self": null,
            "border": null,
            "bottom": null,
            "display": null,
            "flex": null,
            "flex_flow": null,
            "grid_area": null,
            "grid_auto_columns": null,
            "grid_auto_flow": null,
            "grid_auto_rows": null,
            "grid_column": null,
            "grid_gap": null,
            "grid_row": null,
            "grid_template_areas": null,
            "grid_template_columns": null,
            "grid_template_rows": null,
            "height": null,
            "justify_content": null,
            "justify_items": null,
            "left": null,
            "margin": null,
            "max_height": null,
            "max_width": null,
            "min_height": null,
            "min_width": null,
            "object_fit": null,
            "object_position": null,
            "order": null,
            "overflow": null,
            "overflow_x": null,
            "overflow_y": null,
            "padding": null,
            "right": null,
            "top": null,
            "visibility": null,
            "width": null
          }
        },
        "01666a6014ec4477bb4a2b4e5c65021b": {
          "model_module": "@jupyter-widgets/controls",
          "model_name": "DescriptionStyleModel",
          "model_module_version": "1.5.0",
          "state": {
            "_model_module": "@jupyter-widgets/controls",
            "_model_module_version": "1.5.0",
            "_model_name": "DescriptionStyleModel",
            "_view_count": null,
            "_view_module": "@jupyter-widgets/base",
            "_view_module_version": "1.2.0",
            "_view_name": "StyleView",
            "description_width": ""
          }
        },
        "fc9802859e0441fdbddd17ff43d30604": {
          "model_module": "@jupyter-widgets/base",
          "model_name": "LayoutModel",
          "model_module_version": "1.2.0",
          "state": {
            "_model_module": "@jupyter-widgets/base",
            "_model_module_version": "1.2.0",
            "_model_name": "LayoutModel",
            "_view_count": null,
            "_view_module": "@jupyter-widgets/base",
            "_view_module_version": "1.2.0",
            "_view_name": "LayoutView",
            "align_content": null,
            "align_items": null,
            "align_self": null,
            "border": null,
            "bottom": null,
            "display": null,
            "flex": null,
            "flex_flow": null,
            "grid_area": null,
            "grid_auto_columns": null,
            "grid_auto_flow": null,
            "grid_auto_rows": null,
            "grid_column": null,
            "grid_gap": null,
            "grid_row": null,
            "grid_template_areas": null,
            "grid_template_columns": null,
            "grid_template_rows": null,
            "height": null,
            "justify_content": null,
            "justify_items": null,
            "left": null,
            "margin": null,
            "max_height": null,
            "max_width": null,
            "min_height": null,
            "min_width": null,
            "object_fit": null,
            "object_position": null,
            "order": null,
            "overflow": null,
            "overflow_x": null,
            "overflow_y": null,
            "padding": null,
            "right": null,
            "top": null,
            "visibility": null,
            "width": "20px"
          }
        },
        "35694119d15c49a18ac8d07058de5d56": {
          "model_module": "@jupyter-widgets/controls",
          "model_name": "ProgressStyleModel",
          "model_module_version": "1.5.0",
          "state": {
            "_model_module": "@jupyter-widgets/controls",
            "_model_module_version": "1.5.0",
            "_model_name": "ProgressStyleModel",
            "_view_count": null,
            "_view_module": "@jupyter-widgets/base",
            "_view_module_version": "1.2.0",
            "_view_name": "StyleView",
            "bar_color": null,
            "description_width": ""
          }
        },
        "d34a0092219542438e91c215c45dc341": {
          "model_module": "@jupyter-widgets/base",
          "model_name": "LayoutModel",
          "model_module_version": "1.2.0",
          "state": {
            "_model_module": "@jupyter-widgets/base",
            "_model_module_version": "1.2.0",
            "_model_name": "LayoutModel",
            "_view_count": null,
            "_view_module": "@jupyter-widgets/base",
            "_view_module_version": "1.2.0",
            "_view_name": "LayoutView",
            "align_content": null,
            "align_items": null,
            "align_self": null,
            "border": null,
            "bottom": null,
            "display": null,
            "flex": null,
            "flex_flow": null,
            "grid_area": null,
            "grid_auto_columns": null,
            "grid_auto_flow": null,
            "grid_auto_rows": null,
            "grid_column": null,
            "grid_gap": null,
            "grid_row": null,
            "grid_template_areas": null,
            "grid_template_columns": null,
            "grid_template_rows": null,
            "height": null,
            "justify_content": null,
            "justify_items": null,
            "left": null,
            "margin": null,
            "max_height": null,
            "max_width": null,
            "min_height": null,
            "min_width": null,
            "object_fit": null,
            "object_position": null,
            "order": null,
            "overflow": null,
            "overflow_x": null,
            "overflow_y": null,
            "padding": null,
            "right": null,
            "top": null,
            "visibility": null,
            "width": null
          }
        },
        "78c33d9b1ffd45dd8caf6d3a8f247370": {
          "model_module": "@jupyter-widgets/controls",
          "model_name": "DescriptionStyleModel",
          "model_module_version": "1.5.0",
          "state": {
            "_model_module": "@jupyter-widgets/controls",
            "_model_module_version": "1.5.0",
            "_model_name": "DescriptionStyleModel",
            "_view_count": null,
            "_view_module": "@jupyter-widgets/base",
            "_view_module_version": "1.2.0",
            "_view_name": "StyleView",
            "description_width": ""
          }
        }
      }
    }
  },
  "nbformat": 4,
  "nbformat_minor": 0
}